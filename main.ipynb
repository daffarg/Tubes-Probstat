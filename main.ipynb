{
 "cells": [
  {
   "cell_type": "code",
   "execution_count": 328,
   "metadata": {},
   "outputs": [
    {
     "data": {
      "text/html": [
       "<div>\n",
       "<style scoped>\n",
       "    .dataframe tbody tr th:only-of-type {\n",
       "        vertical-align: middle;\n",
       "    }\n",
       "\n",
       "    .dataframe tbody tr th {\n",
       "        vertical-align: top;\n",
       "    }\n",
       "\n",
       "    .dataframe thead th {\n",
       "        text-align: right;\n",
       "    }\n",
       "</style>\n",
       "<table border=\"1\" class=\"dataframe\">\n",
       "  <thead>\n",
       "    <tr style=\"text-align: right;\">\n",
       "      <th></th>\n",
       "      <th>id</th>\n",
       "      <th>pH</th>\n",
       "      <th>hardness</th>\n",
       "      <th>solids</th>\n",
       "      <th>chloramines</th>\n",
       "      <th>sulfate</th>\n",
       "      <th>conductivity</th>\n",
       "      <th>organicCarbon</th>\n",
       "      <th>trihalomethanes</th>\n",
       "      <th>turbidity</th>\n",
       "      <th>potability</th>\n",
       "    </tr>\n",
       "  </thead>\n",
       "  <tbody>\n",
       "    <tr>\n",
       "      <th>0</th>\n",
       "      <td>1</td>\n",
       "      <td>8.316766</td>\n",
       "      <td>214.373394</td>\n",
       "      <td>22018.417441</td>\n",
       "      <td>8.059332</td>\n",
       "      <td>356.886136</td>\n",
       "      <td>363.266516</td>\n",
       "      <td>18.436524</td>\n",
       "      <td>100.341674</td>\n",
       "      <td>4.628771</td>\n",
       "      <td>0</td>\n",
       "    </tr>\n",
       "    <tr>\n",
       "      <th>1</th>\n",
       "      <td>2</td>\n",
       "      <td>9.092223</td>\n",
       "      <td>181.101509</td>\n",
       "      <td>17978.986339</td>\n",
       "      <td>6.546600</td>\n",
       "      <td>310.135738</td>\n",
       "      <td>398.410813</td>\n",
       "      <td>11.558279</td>\n",
       "      <td>31.997993</td>\n",
       "      <td>4.075075</td>\n",
       "      <td>0</td>\n",
       "    </tr>\n",
       "    <tr>\n",
       "      <th>2</th>\n",
       "      <td>3</td>\n",
       "      <td>5.584087</td>\n",
       "      <td>188.313324</td>\n",
       "      <td>28748.687739</td>\n",
       "      <td>7.544869</td>\n",
       "      <td>326.678363</td>\n",
       "      <td>280.467916</td>\n",
       "      <td>8.399735</td>\n",
       "      <td>54.917862</td>\n",
       "      <td>2.559708</td>\n",
       "      <td>0</td>\n",
       "    </tr>\n",
       "    <tr>\n",
       "      <th>3</th>\n",
       "      <td>4</td>\n",
       "      <td>10.223862</td>\n",
       "      <td>248.071735</td>\n",
       "      <td>28749.716544</td>\n",
       "      <td>7.513408</td>\n",
       "      <td>393.663396</td>\n",
       "      <td>283.651634</td>\n",
       "      <td>13.789695</td>\n",
       "      <td>84.603556</td>\n",
       "      <td>2.672989</td>\n",
       "      <td>0</td>\n",
       "    </tr>\n",
       "    <tr>\n",
       "      <th>4</th>\n",
       "      <td>5</td>\n",
       "      <td>8.635849</td>\n",
       "      <td>203.361523</td>\n",
       "      <td>13672.091764</td>\n",
       "      <td>4.563009</td>\n",
       "      <td>303.309771</td>\n",
       "      <td>474.607645</td>\n",
       "      <td>12.363817</td>\n",
       "      <td>62.798309</td>\n",
       "      <td>4.401425</td>\n",
       "      <td>0</td>\n",
       "    </tr>\n",
       "    <tr>\n",
       "      <th>...</th>\n",
       "      <td>...</td>\n",
       "      <td>...</td>\n",
       "      <td>...</td>\n",
       "      <td>...</td>\n",
       "      <td>...</td>\n",
       "      <td>...</td>\n",
       "      <td>...</td>\n",
       "      <td>...</td>\n",
       "      <td>...</td>\n",
       "      <td>...</td>\n",
       "      <td>...</td>\n",
       "    </tr>\n",
       "    <tr>\n",
       "      <th>2005</th>\n",
       "      <td>2006</td>\n",
       "      <td>8.197353</td>\n",
       "      <td>203.105091</td>\n",
       "      <td>27701.794055</td>\n",
       "      <td>6.472914</td>\n",
       "      <td>328.886838</td>\n",
       "      <td>444.612724</td>\n",
       "      <td>14.250875</td>\n",
       "      <td>62.906205</td>\n",
       "      <td>3.361833</td>\n",
       "      <td>1</td>\n",
       "    </tr>\n",
       "    <tr>\n",
       "      <th>2006</th>\n",
       "      <td>2007</td>\n",
       "      <td>8.989900</td>\n",
       "      <td>215.047358</td>\n",
       "      <td>15921.412018</td>\n",
       "      <td>6.297312</td>\n",
       "      <td>312.931022</td>\n",
       "      <td>390.410231</td>\n",
       "      <td>9.899115</td>\n",
       "      <td>55.069304</td>\n",
       "      <td>4.613843</td>\n",
       "      <td>1</td>\n",
       "    </tr>\n",
       "    <tr>\n",
       "      <th>2007</th>\n",
       "      <td>2008</td>\n",
       "      <td>6.702547</td>\n",
       "      <td>207.321086</td>\n",
       "      <td>17246.920347</td>\n",
       "      <td>7.708117</td>\n",
       "      <td>304.510230</td>\n",
       "      <td>329.266002</td>\n",
       "      <td>16.217303</td>\n",
       "      <td>28.878601</td>\n",
       "      <td>3.442983</td>\n",
       "      <td>1</td>\n",
       "    </tr>\n",
       "    <tr>\n",
       "      <th>2008</th>\n",
       "      <td>2009</td>\n",
       "      <td>11.491011</td>\n",
       "      <td>94.812545</td>\n",
       "      <td>37188.826022</td>\n",
       "      <td>9.263166</td>\n",
       "      <td>258.930600</td>\n",
       "      <td>439.893618</td>\n",
       "      <td>16.172755</td>\n",
       "      <td>41.558501</td>\n",
       "      <td>4.369264</td>\n",
       "      <td>1</td>\n",
       "    </tr>\n",
       "    <tr>\n",
       "      <th>2009</th>\n",
       "      <td>2010</td>\n",
       "      <td>6.069616</td>\n",
       "      <td>186.659040</td>\n",
       "      <td>26138.780191</td>\n",
       "      <td>7.747547</td>\n",
       "      <td>345.700257</td>\n",
       "      <td>415.886955</td>\n",
       "      <td>12.067620</td>\n",
       "      <td>60.419921</td>\n",
       "      <td>3.669712</td>\n",
       "      <td>1</td>\n",
       "    </tr>\n",
       "  </tbody>\n",
       "</table>\n",
       "<p>2010 rows × 11 columns</p>\n",
       "</div>"
      ],
      "text/plain": [
       "        id         pH    hardness        solids  chloramines     sulfate  \\\n",
       "0        1   8.316766  214.373394  22018.417441     8.059332  356.886136   \n",
       "1        2   9.092223  181.101509  17978.986339     6.546600  310.135738   \n",
       "2        3   5.584087  188.313324  28748.687739     7.544869  326.678363   \n",
       "3        4  10.223862  248.071735  28749.716544     7.513408  393.663396   \n",
       "4        5   8.635849  203.361523  13672.091764     4.563009  303.309771   \n",
       "...    ...        ...         ...           ...          ...         ...   \n",
       "2005  2006   8.197353  203.105091  27701.794055     6.472914  328.886838   \n",
       "2006  2007   8.989900  215.047358  15921.412018     6.297312  312.931022   \n",
       "2007  2008   6.702547  207.321086  17246.920347     7.708117  304.510230   \n",
       "2008  2009  11.491011   94.812545  37188.826022     9.263166  258.930600   \n",
       "2009  2010   6.069616  186.659040  26138.780191     7.747547  345.700257   \n",
       "\n",
       "      conductivity  organicCarbon  trihalomethanes  turbidity  potability  \n",
       "0       363.266516      18.436524       100.341674   4.628771           0  \n",
       "1       398.410813      11.558279        31.997993   4.075075           0  \n",
       "2       280.467916       8.399735        54.917862   2.559708           0  \n",
       "3       283.651634      13.789695        84.603556   2.672989           0  \n",
       "4       474.607645      12.363817        62.798309   4.401425           0  \n",
       "...            ...            ...              ...        ...         ...  \n",
       "2005    444.612724      14.250875        62.906205   3.361833           1  \n",
       "2006    390.410231       9.899115        55.069304   4.613843           1  \n",
       "2007    329.266002      16.217303        28.878601   3.442983           1  \n",
       "2008    439.893618      16.172755        41.558501   4.369264           1  \n",
       "2009    415.886955      12.067620        60.419921   3.669712           1  \n",
       "\n",
       "[2010 rows x 11 columns]"
      ]
     },
     "execution_count": 328,
     "metadata": {},
     "output_type": "execute_result"
    }
   ],
   "source": [
    "import pandas as pd\n",
    "import numpy as np\n",
    "import matplotlib.pyplot as plt\n",
    "import scipy.stats as s\n",
    "import seaborn as sns\n",
    "from scipy.stats import iqr\n",
    "import math\n",
    "\n",
    "# Pembacaan file csv\n",
    "df = pd.read_csv(\"water_potability.csv\", names = [\"id\", \"pH\", \"hardness\", \"solids\", \"chloramines\", \n",
    "                                                    \"sulfate\", \"conductivity\", \"organicCarbon\", \"trihalomethanes\",\n",
    "                                                    \"turbidity\", \"potability\"])\n",
    "df"
   ]
  },
  {
   "cell_type": "markdown",
   "metadata": {},
   "source": [
    "# Nomor 1\n",
    "\n",
    "Menulis deskripsi statistika (Descriptive Statistics) dari semua kolom pada data yang bersifat\n",
    "numerik, terdiri dari mean, median, modus, standar deviasi, variansi, range, nilai minimum,\n",
    "maksimum, kuartil, IQR, skewness dan kurtosis. Boleh juga ditambahkan deskripsi lain."
   ]
  },
  {
   "cell_type": "code",
   "execution_count": 329,
   "metadata": {},
   "outputs": [],
   "source": [
    "def desc_stat(df):\n",
    "    print(\"Mean\\t\\t:\", df.mean())\n",
    "    print(\"Median\\t\\t:\", df.median())\n",
    "    print(\"Modus\\t\\t:\", df.mode(\"index\")[0])\n",
    "    print(\"Standar Deviasi\\t:\", df.std())\n",
    "    print(\"Variansi\\t:\", df.var())\n",
    "    print(\"Range\\t\\t:\", df.max()-df.min())\n",
    "    print(\"Nilai Minimum\\t:\", df.min())\n",
    "    print(\"Nilai Maksimum\\t:\", df.max())\n",
    "    print(\"Kuartil pertama\\t:\", df.quantile(0.25))\n",
    "    print(\"Kuartil kedua\\t:\", df.quantile(0.5))\n",
    "    print(\"Kuartil ketiga\\t:\", df.quantile(0.75))\n",
    "    print(\"IQR\\t\\t:\", iqr(df))\n",
    "    print(\"Skewness\\t:\", df.skew())\n",
    "    print(\"Kurtosis\\t:\", df.kurtosis())\n",
    "\n",
    "    \n",
    "    mod = df.mode()\n",
    "    print(\"Modus\\t\\t:\", end=\"\")\n",
    "    if(len(mod) != 2010): #jika tidak semua modus\n",
    "        for j in range(len(mod)):\n",
    "            if j != len(mod) -1:\n",
    "                print(mod[j], end= \", \")\n",
    "            else:\n",
    "                print(mod[j])\n",
    "    else:\n",
    "        print(\" Semua data muncul sekali. \", end=\"\") #semua data unik, semua modus\n",
    "        print(\"Oleh karena itu dipilih modus, yaitu\", df.mode()[0])\n",
    "    print()"
   ]
  },
  {
   "cell_type": "markdown",
   "metadata": {},
   "source": [
    "### Kolom pH"
   ]
  },
  {
   "cell_type": "code",
   "execution_count": 330,
   "metadata": {},
   "outputs": [
    {
     "name": "stdout",
     "output_type": "stream",
     "text": [
      "Mean\t\t: 7.0871927687138285\n",
      "Median\t\t: 7.029490455474185\n",
      "Modus\t\t: 0.2274990502021987\n",
      "Standar Deviasi\t: 1.5728029470456655\n",
      "Variansi\t: 2.4737091102355304\n",
      "Range\t\t: 13.7725009497978\n",
      "Nilai Minimum\t: 0.2274990502021987\n",
      "Nilai Maksimum\t: 13.999999999999998\n",
      "Kuartil pertama\t: 6.09078502142353\n",
      "Kuartil kedua\t: 7.029490455474185\n",
      "Kuartil ketiga\t: 8.053006240791538\n",
      "IQR\t\t: 1.9622212193680078\n",
      "Skewness\t: 0.04853451405270669\n",
      "Kurtosis\t: 0.6269041256617065\n",
      "Modus\t\t: Semua data muncul sekali. Oleh karena itu dipilih modus, yaitu 0.2274990502021987\n",
      "\n"
     ]
    }
   ],
   "source": [
    "desc_stat(df[\"pH\"])"
   ]
  },
  {
   "cell_type": "markdown",
   "metadata": {},
   "source": [
    "### Kolom hardness"
   ]
  },
  {
   "cell_type": "code",
   "execution_count": 331,
   "metadata": {},
   "outputs": [
    {
     "name": "stdout",
     "output_type": "stream",
     "text": [
      "Mean\t\t: 195.96920903783524\n",
      "Median\t\t: 197.20352491941043\n",
      "Modus\t\t: 73.4922336890611\n",
      "Standar Deviasi\t: 32.643165859429864\n",
      "Variansi\t: 1065.5762773262472\n",
      "Range\t\t: 243.84589036652147\n",
      "Nilai Minimum\t: 73.4922336890611\n",
      "Nilai Maksimum\t: 317.33812405558257\n",
      "Kuartil pertama\t: 176.74065667669896\n",
      "Kuartil kedua\t: 197.20352491941043\n",
      "Kuartil ketiga\t: 216.44758866727156\n",
      "IQR\t\t: 39.7069319905726\n",
      "Skewness\t: -0.08532104172868622\n",
      "Kurtosis\t: 0.5254804942991402\n",
      "Modus\t\t: Semua data muncul sekali. Oleh karena itu dipilih modus, yaitu 73.4922336890611\n",
      "\n"
     ]
    }
   ],
   "source": [
    "desc_stat(df[\"hardness\"])"
   ]
  },
  {
   "cell_type": "markdown",
   "metadata": {},
   "source": [
    "### Kolom solids"
   ]
  },
  {
   "cell_type": "code",
   "execution_count": 332,
   "metadata": {},
   "outputs": [
    {
     "name": "stdout",
     "output_type": "stream",
     "text": [
      "Mean\t\t: 21904.673439053095\n",
      "Median\t\t: 20926.88215534375\n",
      "Modus\t\t: 320.942611274359\n",
      "Standar Deviasi\t: 8625.397911190576\n",
      "Variansi\t: 74397489.12637076\n",
      "Range\t\t: 56167.72980146483\n",
      "Nilai Minimum\t: 320.942611274359\n",
      "Nilai Maksimum\t: 56488.67241273919\n",
      "Kuartil pertama\t: 15614.412961614333\n",
      "Kuartil kedua\t: 20926.88215534375\n",
      "Kuartil ketiga\t: 27170.534648603603\n",
      "IQR\t\t: 11556.12168698927\n",
      "Skewness\t: 0.5910113724580447\n",
      "Kurtosis\t: 0.33732026745944976\n",
      "Modus\t\t: Semua data muncul sekali. Oleh karena itu dipilih modus, yaitu 320.942611274359\n",
      "\n"
     ]
    }
   ],
   "source": [
    "desc_stat(df[\"solids\"])"
   ]
  },
  {
   "cell_type": "markdown",
   "metadata": {},
   "source": [
    "### Kolom chloramines"
   ]
  },
  {
   "cell_type": "code",
   "execution_count": 333,
   "metadata": {},
   "outputs": [
    {
     "name": "stdout",
     "output_type": "stream",
     "text": [
      "Mean\t\t: 7.134322344600104\n",
      "Median\t\t: 7.1420143046226645\n",
      "Modus\t\t: 1.3908709048851806\n",
      "Standar Deviasi\t: 1.5852140982642102\n",
      "Variansi\t: 2.512903737335613\n",
      "Range\t\t: 11.736129095114823\n",
      "Nilai Minimum\t: 1.3908709048851806\n",
      "Nilai Maksimum\t: 13.127000000000002\n",
      "Kuartil pertama\t: 6.138326387572855\n",
      "Kuartil kedua\t: 7.1420143046226645\n",
      "Kuartil ketiga\t: 8.109933216133502\n",
      "IQR\t\t: 1.9716068285606472\n",
      "Skewness\t: 0.013003497779569528\n",
      "Kurtosis\t: 0.5497821097667472\n",
      "Modus\t\t: Semua data muncul sekali. Oleh karena itu dipilih modus, yaitu 1.3908709048851806\n",
      "\n"
     ]
    }
   ],
   "source": [
    "desc_stat(df[\"chloramines\"])"
   ]
  },
  {
   "cell_type": "markdown",
   "metadata": {},
   "source": [
    "### Kolom sulfate"
   ]
  },
  {
   "cell_type": "code",
   "execution_count": 334,
   "metadata": {},
   "outputs": [
    {
     "name": "stdout",
     "output_type": "stream",
     "text": [
      "Mean\t\t: 333.211376415189\n",
      "Median\t\t: 332.2141128069568\n",
      "Modus\t\t: 129.00000000000003\n",
      "Standar Deviasi\t: 41.21111102560979\n",
      "Variansi\t: 1698.355671965137\n",
      "Range\t\t: 352.03064230599716\n",
      "Nilai Minimum\t: 129.00000000000003\n",
      "Nilai Maksimum\t: 481.0306423059972\n",
      "Kuartil pertama\t: 307.6269864860709\n",
      "Kuartil kedua\t: 332.2141128069568\n",
      "Kuartil ketiga\t: 359.26814739141554\n",
      "IQR\t\t: 51.641160905344634\n",
      "Skewness\t: -0.04572780443653543\n",
      "Kurtosis\t: 0.7868544988131605\n",
      "Modus\t\t: Semua data muncul sekali. Oleh karena itu dipilih modus, yaitu 129.00000000000003\n",
      "\n"
     ]
    }
   ],
   "source": [
    "desc_stat(df[\"sulfate\"])"
   ]
  },
  {
   "cell_type": "markdown",
   "metadata": {},
   "source": [
    "### Kolom conductivity"
   ]
  },
  {
   "cell_type": "code",
   "execution_count": 335,
   "metadata": {},
   "outputs": [
    {
     "name": "stdout",
     "output_type": "stream",
     "text": [
      "Mean\t\t: 426.47670835257907\n",
      "Median\t\t: 423.43837202443706\n",
      "Modus\t\t: 201.6197367551575\n",
      "Standar Deviasi\t: 80.70187180729437\n",
      "Variansi\t: 6512.792113200974\n",
      "Range\t\t: 551.7228828031471\n",
      "Nilai Minimum\t: 201.6197367551575\n",
      "Nilai Maksimum\t: 753.3426195583046\n",
      "Kuartil pertama\t: 366.61921929632433\n",
      "Kuartil kedua\t: 423.43837202443706\n",
      "Kuartil ketiga\t: 482.2097724598859\n",
      "IQR\t\t: 115.5905531635616\n",
      "Skewness\t: 0.26801233302645316\n",
      "Kurtosis\t: -0.23720600574806516\n",
      "Modus\t\t: Semua data muncul sekali. Oleh karena itu dipilih modus, yaitu 201.6197367551575\n",
      "\n"
     ]
    }
   ],
   "source": [
    "desc_stat(df[\"conductivity\"])"
   ]
  },
  {
   "cell_type": "markdown",
   "metadata": {},
   "source": [
    "### Kolom organic carbon"
   ]
  },
  {
   "cell_type": "code",
   "execution_count": 336,
   "metadata": {},
   "outputs": [
    {
     "name": "stdout",
     "output_type": "stream",
     "text": [
      "Mean\t\t: 14.357939902048074\n",
      "Median\t\t: 14.323285610653329\n",
      "Modus\t\t: 2.1999999999999886\n",
      "Standar Deviasi\t: 3.3257700016987197\n",
      "Variansi\t: 11.0607461041991\n",
      "Range\t\t: 24.80670661116602\n",
      "Nilai Minimum\t: 2.1999999999999886\n",
      "Nilai Maksimum\t: 27.00670661116601\n",
      "Kuartil pertama\t: 12.122530374047727\n",
      "Kuartil kedua\t: 14.323285610653329\n",
      "Kuartil ketiga\t: 16.683561746173808\n",
      "IQR\t\t: 4.561031372126081\n",
      "Skewness\t: -0.02021975629181238\n",
      "Kurtosis\t: 0.031018388192253\n",
      "Modus\t\t: Semua data muncul sekali. Oleh karena itu dipilih modus, yaitu 2.1999999999999886\n",
      "\n"
     ]
    }
   ],
   "source": [
    "desc_stat(df[\"organicCarbon\"])"
   ]
  },
  {
   "cell_type": "markdown",
   "metadata": {},
   "source": [
    "### Kolom trihalomethanes"
   ]
  },
  {
   "cell_type": "code",
   "execution_count": 337,
   "metadata": {},
   "outputs": [
    {
     "name": "stdout",
     "output_type": "stream",
     "text": [
      "Mean\t\t: 66.40071666307466\n",
      "Median\t\t: 66.48204080309809\n",
      "Modus\t\t: 8.577012932983806\n",
      "Standar Deviasi\t: 16.08110898232513\n",
      "Variansi\t: 258.60206610141796\n",
      "Range\t\t: 115.4229870670162\n",
      "Nilai Minimum\t: 8.577012932983806\n",
      "Nilai Maksimum\t: 124.0\n",
      "Kuartil pertama\t: 55.94999302803186\n",
      "Kuartil kedua\t: 66.48204080309809\n",
      "Kuartil ketiga\t: 77.2946128060674\n",
      "IQR\t\t: 21.344619778035543\n",
      "Skewness\t: -0.05138268451619478\n",
      "Kurtosis\t: 0.2230167810639787\n",
      "Modus\t\t: Semua data muncul sekali. Oleh karena itu dipilih modus, yaitu 8.577012932983806\n",
      "\n"
     ]
    }
   ],
   "source": [
    "desc_stat(df[\"trihalomethanes\"])"
   ]
  },
  {
   "cell_type": "markdown",
   "metadata": {},
   "source": [
    "### Kolom turbidity"
   ]
  },
  {
   "cell_type": "code",
   "execution_count": 338,
   "metadata": {},
   "outputs": [
    {
     "name": "stdout",
     "output_type": "stream",
     "text": [
      "Mean\t\t: 3.9694969126303676\n",
      "Median\t\t: 3.967373963531836\n",
      "Modus\t\t: 1.45\n",
      "Standar Deviasi\t: 0.7804710407083957\n",
      "Variansi\t: 0.6091350453844462\n",
      "Range\t\t: 5.044748555990993\n",
      "Nilai Minimum\t: 1.45\n",
      "Nilai Maksimum\t: 6.494748555990993\n",
      "Kuartil pertama\t: 3.442881623557439\n",
      "Kuartil kedua\t: 3.967373963531836\n",
      "Kuartil ketiga\t: 4.5146627202018825\n",
      "IQR\t\t: 1.0717810966444437\n",
      "Skewness\t: -0.03226597968019271\n",
      "Kurtosis\t: -0.049830796949249745\n",
      "Modus\t\t: Semua data muncul sekali. Oleh karena itu dipilih modus, yaitu 1.45\n",
      "\n"
     ]
    }
   ],
   "source": [
    "desc_stat(df[\"turbidity\"])"
   ]
  },
  {
   "cell_type": "markdown",
   "metadata": {},
   "source": [
    "# Nomor 2\n",
    "\n",
    "Membuat Visualisasi plot distribusi, dalam bentuk histogram dan boxplot untuk setiap\n",
    "kolom numerik. Berikan uraian penjelasan kondisi setiap kolom berdasarkan kedua plot\n",
    "tersebut."
   ]
  },
  {
   "cell_type": "code",
   "execution_count": 339,
   "metadata": {},
   "outputs": [],
   "source": [
    "from IPython.display import Markdown, display\n",
    "\n",
    "def markdown(input):\n",
    "    display(Markdown(input))\n",
    "\n",
    "def printHistBox(col):\n",
    "    markdown(\"### Boxplot dan Histogram %s\" %(col))\n",
    "    plt.subplot(1,2,1)\n",
    "    df[col].plot(kind=\"hist\",figsize=(10,4), color = \"green\")\n",
    "    plt.xlabel(\"Value\")\n",
    "    plt.title('Histogram')\n",
    "    plt.grid()\n",
    "\n",
    "    plt.subplot(1,2,2)\n",
    "    df[col].plot(kind = \"box\", vert=False)\n",
    "    plt.title('Boxplot')\n",
    "    plt.yticks(ticks=[0]) \n",
    "    plt.xlabel(\"Value\")\n",
    "    plt.grid()\n",
    "    plt.tight_layout()\n",
    "\n",
    "def fetch(col):\n",
    "    skew = df[col].skew()\n",
    "    kurt = df[col].kurtosis()\n",
    "    q1 = float(df[col].quantile(0.25))\n",
    "    median = df[col].quantile(0.50)\n",
    "    q3 = float(df[col].quantile(0.75))\n",
    "    mean = df[col].mean()\n",
    "    iqrange =  iqr(df[col])\n",
    "    uppperTail = 1.5 * iqrange + q3\n",
    "    lowerTail = q1 - (1.5 * iqrange)\n",
    "\n",
    "    Boxplot = \"Pada boxplot dapat dilihat bahwa nilai upper tail adalah %f dan nilai lower tail adalah %f.\" %(uppperTail, lowerTail)\n",
    "\n",
    "    markdown(Boxplot)\n",
    "\n",
    "    pAtas = \"\"\n",
    "    pBawah = \"\"\n",
    "    if (df[col].max() > uppperTail):\n",
    "        pAtas = \" Pada boxplot dapat terlihat ada pencilan atas. Hal ini juga didukung dari perhitungan dimana nilai maksimum dari %s > upper tail.\" %(col)\n",
    "    if (df[col].min() < lowerTail):\n",
    "        pBawah = \" Pada boxplot dapat terlihat ada pencilan bawah. Hal ini juga didukung dari perhitungan dimana nilai minimum dari %s < lower tail.\" %(col)\n",
    "\n",
    "    markdown(pAtas + pBawah)\n",
    "    text1 = \"Jika dilihat pada histogram, diketahui bahwa skewness kolom %s adalah \" %(col)\n",
    "    \n",
    "    #skewness\n",
    "    text2 = \"$%f$. Oleh karena itu dapat disimpulkan bahwa kolom bersifat %s \" %(skew, col)\n",
    "\n",
    "    skewnessCol = \"Dari histogram kita bisa lihat bahwa kolom %s bersifat\" %(col)\n",
    "    if (-0.5 < skew < 0.5):\n",
    "        ket = \" ***symmetrically distributed***. Hal ini juga didukung oleh data karena $-0.5 < skew < 0.5$\"\n",
    "    elif ((skew <= -0.5) and (mean < median)):\n",
    "        ket = \" ***negatively skewed***, yaitu data dengan nilai yang besar memiliki frekuensi yang tinggi.\"\n",
    "    elif ((skew >= 0.5) and (mean > median)):\n",
    "        ket = \" ***positively skewed***, yaitu data dengan nilai yang kecil memiliki frekuensi yang tinggi.\"\n",
    "\n",
    "    markdown(text1 + text2 + skewnessCol + ket)\n",
    "    \n",
    "    if (kurt < 0):\n",
    "        text5 = \"Terlihat bahwa kolom tersebut memiliki  ***platykurtic distribution*** karena terdapat banyak niali ekstrem bawah ($kurt < 0$). Hal tersebut juga dibuktikan dengan nilai kurtosis kolom yang bernilai $%f$. \" %(kurt) \n",
    "    elif (kurt > 0):\n",
    "        text5 = \"Terlihat bahwa kolom tersebut memiliki ***leptokurtic distribution*** karena terdapat banyak nilai ekstrem atas ($kurt > 0$). Hal tersebut juga dibuktikan dengan nilai kurtosis kolom yang bernilai $%f$. \" %(kurt) \n",
    "    else:\n",
    "        text5 = \"Terlihat bahwa kolom tersebut memiliki  ***mesokurtic distribution***. \"\n",
    "    \n",
    "\n",
    "    markdown(text5)\n",
    "\n",
    "def printAll(col):\n",
    "    printHistBox(col)\n",
    "    fetch(col)"
   ]
  },
  {
   "cell_type": "code",
   "execution_count": 340,
   "metadata": {},
   "outputs": [
    {
     "data": {
      "text/markdown": [
       "### Boxplot dan Histogram pH"
      ],
      "text/plain": [
       "<IPython.core.display.Markdown object>"
      ]
     },
     "metadata": {},
     "output_type": "display_data"
    },
    {
     "data": {
      "text/markdown": [
       "Pada boxplot dapat dilihat bahwa nilai upper tail adalah 10.996338 dan nilai lower tail adalah 3.147453."
      ],
      "text/plain": [
       "<IPython.core.display.Markdown object>"
      ]
     },
     "metadata": {},
     "output_type": "display_data"
    },
    {
     "data": {
      "text/markdown": [
       " Pada boxplot dapat terlihat ada pencilan atas. Hal ini juga didukung dari perhitungan dimana nilai maksimum dari pH > upper tail. Pada boxplot dapat terlihat ada pencilan bawah. Hal ini juga didukung dari perhitungan dimana nilai minimum dari pH < lower tail."
      ],
      "text/plain": [
       "<IPython.core.display.Markdown object>"
      ]
     },
     "metadata": {},
     "output_type": "display_data"
    },
    {
     "data": {
      "text/markdown": [
       "Jika dilihat pada histogram, diketahui bahwa skewness kolom pH adalah $0.048535$. Oleh karena itu dapat disimpulkan bahwa kolom bersifat pH Dari histogram kita bisa lihat bahwa kolom pH bersifat ***symmetrically distributed***. Hal ini juga didukung oleh data karena $-0.5 < skew < 0.5$"
      ],
      "text/plain": [
       "<IPython.core.display.Markdown object>"
      ]
     },
     "metadata": {},
     "output_type": "display_data"
    },
    {
     "data": {
      "text/markdown": [
       "Terlihat bahwa kolom tersebut memiliki ***leptokurtic distribution*** karena terdapat banyak nilai ekstrem atas ($kurt > 0$). Hal tersebut juga dibuktikan dengan nilai kurtosis kolom yang bernilai $0.626904$. "
      ],
      "text/plain": [
       "<IPython.core.display.Markdown object>"
      ]
     },
     "metadata": {},
     "output_type": "display_data"
    },
    {
     "data": {
      "image/png": "[encoded data removed]",
      "text/plain": [
       "<Figure size 720x288 with 2 Axes>"
      ]
     },
     "metadata": {
      "needs_background": "light"
     },
     "output_type": "display_data"
    }
   ],
   "source": [
    "printAll('pH')"
   ]
  },
  {
   "cell_type": "code",
   "execution_count": 341,
   "metadata": {},
   "outputs": [
    {
     "data": {
      "text/markdown": [
       "### Boxplot dan Histogram hardness"
      ],
      "text/plain": [
       "<IPython.core.display.Markdown object>"
      ]
     },
     "metadata": {},
     "output_type": "display_data"
    },
    {
     "data": {
      "text/markdown": [
       "Pada boxplot dapat dilihat bahwa nilai upper tail adalah 276.007987 dan nilai lower tail adalah 117.180259."
      ],
      "text/plain": [
       "<IPython.core.display.Markdown object>"
      ]
     },
     "metadata": {},
     "output_type": "display_data"
    },
    {
     "data": {
      "text/markdown": [
       " Pada boxplot dapat terlihat ada pencilan atas. Hal ini juga didukung dari perhitungan dimana nilai maksimum dari hardness > upper tail. Pada boxplot dapat terlihat ada pencilan bawah. Hal ini juga didukung dari perhitungan dimana nilai minimum dari hardness < lower tail."
      ],
      "text/plain": [
       "<IPython.core.display.Markdown object>"
      ]
     },
     "metadata": {},
     "output_type": "display_data"
    },
    {
     "data": {
      "text/markdown": [
       "Jika dilihat pada histogram, diketahui bahwa skewness kolom hardness adalah $-0.085321$. Oleh karena itu dapat disimpulkan bahwa kolom bersifat hardness Dari histogram kita bisa lihat bahwa kolom hardness bersifat ***symmetrically distributed***. Hal ini juga didukung oleh data karena $-0.5 < skew < 0.5$"
      ],
      "text/plain": [
       "<IPython.core.display.Markdown object>"
      ]
     },
     "metadata": {},
     "output_type": "display_data"
    },
    {
     "data": {
      "text/markdown": [
       "Terlihat bahwa kolom tersebut memiliki ***leptokurtic distribution*** karena terdapat banyak nilai ekstrem atas ($kurt > 0$). Hal tersebut juga dibuktikan dengan nilai kurtosis kolom yang bernilai $0.525480$. "
      ],
      "text/plain": [
       "<IPython.core.display.Markdown object>"
      ]
     },
     "metadata": {},
     "output_type": "display_data"
    },
    {
     "data": {
      "image/png": "[encoded data removed]",
      "text/plain": [
       "<Figure size 720x288 with 2 Axes>"
      ]
     },
     "metadata": {
      "needs_background": "light"
     },
     "output_type": "display_data"
    }
   ],
   "source": [
    "printAll('hardness')"
   ]
  },
  {
   "cell_type": "code",
   "execution_count": 342,
   "metadata": {},
   "outputs": [
    {
     "data": {
      "text/markdown": [
       "### Boxplot dan Histogram solids"
      ],
      "text/plain": [
       "<IPython.core.display.Markdown object>"
      ]
     },
     "metadata": {},
     "output_type": "display_data"
    },
    {
     "data": {
      "text/markdown": [
       "Pada boxplot dapat dilihat bahwa nilai upper tail adalah 44504.717179 dan nilai lower tail adalah -1719.769569."
      ],
      "text/plain": [
       "<IPython.core.display.Markdown object>"
      ]
     },
     "metadata": {},
     "output_type": "display_data"
    },
    {
     "data": {
      "text/markdown": [
       " Pada boxplot dapat terlihat ada pencilan atas. Hal ini juga didukung dari perhitungan dimana nilai maksimum dari solids > upper tail."
      ],
      "text/plain": [
       "<IPython.core.display.Markdown object>"
      ]
     },
     "metadata": {},
     "output_type": "display_data"
    },
    {
     "data": {
      "text/markdown": [
       "Jika dilihat pada histogram, diketahui bahwa skewness kolom solids adalah $0.591011$. Oleh karena itu dapat disimpulkan bahwa kolom bersifat solids Dari histogram kita bisa lihat bahwa kolom solids bersifat ***positively skewed***, yaitu data dengan nilai yang kecil memiliki frekuensi yang tinggi."
      ],
      "text/plain": [
       "<IPython.core.display.Markdown object>"
      ]
     },
     "metadata": {},
     "output_type": "display_data"
    },
    {
     "data": {
      "text/markdown": [
       "Terlihat bahwa kolom tersebut memiliki ***leptokurtic distribution*** karena terdapat banyak nilai ekstrem atas ($kurt > 0$). Hal tersebut juga dibuktikan dengan nilai kurtosis kolom yang bernilai $0.337320$. "
      ],
      "text/plain": [
       "<IPython.core.display.Markdown object>"
      ]
     },
     "metadata": {},
     "output_type": "display_data"
    },
    {
     "data": {
      "image/png": "[encoded data removed]",
      "text/plain": [
       "<Figure size 720x288 with 2 Axes>"
      ]
     },
     "metadata": {
      "needs_background": "light"
     },
     "output_type": "display_data"
    }
   ],
   "source": [
    "printAll('solids')"
   ]
  },
  {
   "cell_type": "code",
   "execution_count": 343,
   "metadata": {},
   "outputs": [
    {
     "data": {
      "text/markdown": [
       "### Boxplot dan Histogram chloramines"
      ],
      "text/plain": [
       "<IPython.core.display.Markdown object>"
      ]
     },
     "metadata": {},
     "output_type": "display_data"
    },
    {
     "data": {
      "text/markdown": [
       "Pada boxplot dapat dilihat bahwa nilai upper tail adalah 11.067343 dan nilai lower tail adalah 3.180916."
      ],
      "text/plain": [
       "<IPython.core.display.Markdown object>"
      ]
     },
     "metadata": {},
     "output_type": "display_data"
    },
    {
     "data": {
      "text/markdown": [
       " Pada boxplot dapat terlihat ada pencilan atas. Hal ini juga didukung dari perhitungan dimana nilai maksimum dari chloramines > upper tail. Pada boxplot dapat terlihat ada pencilan bawah. Hal ini juga didukung dari perhitungan dimana nilai minimum dari chloramines < lower tail."
      ],
      "text/plain": [
       "<IPython.core.display.Markdown object>"
      ]
     },
     "metadata": {},
     "output_type": "display_data"
    },
    {
     "data": {
      "text/markdown": [
       "Jika dilihat pada histogram, diketahui bahwa skewness kolom chloramines adalah $0.013003$. Oleh karena itu dapat disimpulkan bahwa kolom bersifat chloramines Dari histogram kita bisa lihat bahwa kolom chloramines bersifat ***symmetrically distributed***. Hal ini juga didukung oleh data karena $-0.5 < skew < 0.5$"
      ],
      "text/plain": [
       "<IPython.core.display.Markdown object>"
      ]
     },
     "metadata": {},
     "output_type": "display_data"
    },
    {
     "data": {
      "text/markdown": [
       "Terlihat bahwa kolom tersebut memiliki ***leptokurtic distribution*** karena terdapat banyak nilai ekstrem atas ($kurt > 0$). Hal tersebut juga dibuktikan dengan nilai kurtosis kolom yang bernilai $0.549782$. "
      ],
      "text/plain": [
       "<IPython.core.display.Markdown object>"
      ]
     },
     "metadata": {},
     "output_type": "display_data"
    },
    {
     "data": {
      "image/png": "[encoded data removed]",
      "text/plain": [
       "<Figure size 720x288 with 2 Axes>"
      ]
     },
     "metadata": {
      "needs_background": "light"
     },
     "output_type": "display_data"
    }
   ],
   "source": [
    "printAll('chloramines')"
   ]
  },
  {
   "cell_type": "code",
   "execution_count": 344,
   "metadata": {},
   "outputs": [
    {
     "data": {
      "text/markdown": [
       "### Boxplot dan Histogram sulfate"
      ],
      "text/plain": [
       "<IPython.core.display.Markdown object>"
      ]
     },
     "metadata": {},
     "output_type": "display_data"
    },
    {
     "data": {
      "text/markdown": [
       "Pada boxplot dapat dilihat bahwa nilai upper tail adalah 436.729889 dan nilai lower tail adalah 230.165245."
      ],
      "text/plain": [
       "<IPython.core.display.Markdown object>"
      ]
     },
     "metadata": {},
     "output_type": "display_data"
    },
    {
     "data": {
      "text/markdown": [
       " Pada boxplot dapat terlihat ada pencilan atas. Hal ini juga didukung dari perhitungan dimana nilai maksimum dari sulfate > upper tail. Pada boxplot dapat terlihat ada pencilan bawah. Hal ini juga didukung dari perhitungan dimana nilai minimum dari sulfate < lower tail."
      ],
      "text/plain": [
       "<IPython.core.display.Markdown object>"
      ]
     },
     "metadata": {},
     "output_type": "display_data"
    },
    {
     "data": {
      "text/markdown": [
       "Jika dilihat pada histogram, diketahui bahwa skewness kolom sulfate adalah $-0.045728$. Oleh karena itu dapat disimpulkan bahwa kolom bersifat sulfate Dari histogram kita bisa lihat bahwa kolom sulfate bersifat ***symmetrically distributed***. Hal ini juga didukung oleh data karena $-0.5 < skew < 0.5$"
      ],
      "text/plain": [
       "<IPython.core.display.Markdown object>"
      ]
     },
     "metadata": {},
     "output_type": "display_data"
    },
    {
     "data": {
      "text/markdown": [
       "Terlihat bahwa kolom tersebut memiliki ***leptokurtic distribution*** karena terdapat banyak nilai ekstrem atas ($kurt > 0$). Hal tersebut juga dibuktikan dengan nilai kurtosis kolom yang bernilai $0.786854$. "
      ],
      "text/plain": [
       "<IPython.core.display.Markdown object>"
      ]
     },
     "metadata": {},
     "output_type": "display_data"
    },
    {
     "data": {
      "image/png": "[encoded data removed]",
      "text/plain": [
       "<Figure size 720x288 with 2 Axes>"
      ]
     },
     "metadata": {
      "needs_background": "light"
     },
     "output_type": "display_data"
    }
   ],
   "source": [
    "printAll('sulfate')"
   ]
  },
  {
   "cell_type": "code",
   "execution_count": 345,
   "metadata": {},
   "outputs": [
    {
     "data": {
      "text/markdown": [
       "### Boxplot dan Histogram conductivity"
      ],
      "text/plain": [
       "<IPython.core.display.Markdown object>"
      ]
     },
     "metadata": {},
     "output_type": "display_data"
    },
    {
     "data": {
      "text/markdown": [
       "Pada boxplot dapat dilihat bahwa nilai upper tail adalah 655.595602 dan nilai lower tail adalah 193.233390."
      ],
      "text/plain": [
       "<IPython.core.display.Markdown object>"
      ]
     },
     "metadata": {},
     "output_type": "display_data"
    },
    {
     "data": {
      "text/markdown": [
       " Pada boxplot dapat terlihat ada pencilan atas. Hal ini juga didukung dari perhitungan dimana nilai maksimum dari conductivity > upper tail."
      ],
      "text/plain": [
       "<IPython.core.display.Markdown object>"
      ]
     },
     "metadata": {},
     "output_type": "display_data"
    },
    {
     "data": {
      "text/markdown": [
       "Jika dilihat pada histogram, diketahui bahwa skewness kolom conductivity adalah $0.268012$. Oleh karena itu dapat disimpulkan bahwa kolom bersifat conductivity Dari histogram kita bisa lihat bahwa kolom conductivity bersifat ***symmetrically distributed***. Hal ini juga didukung oleh data karena $-0.5 < skew < 0.5$"
      ],
      "text/plain": [
       "<IPython.core.display.Markdown object>"
      ]
     },
     "metadata": {},
     "output_type": "display_data"
    },
    {
     "data": {
      "text/markdown": [
       "Terlihat bahwa kolom tersebut memiliki  ***platykurtic distribution*** karena terdapat banyak niali ekstrem bawah ($kurt < 0$). Hal tersebut juga dibuktikan dengan nilai kurtosis kolom yang bernilai $-0.237206$. "
      ],
      "text/plain": [
       "<IPython.core.display.Markdown object>"
      ]
     },
     "metadata": {},
     "output_type": "display_data"
    },
    {
     "data": {
      "image/png": "[encoded data removed]",
      "text/plain": [
       "<Figure size 720x288 with 2 Axes>"
      ]
     },
     "metadata": {
      "needs_background": "light"
     },
     "output_type": "display_data"
    }
   ],
   "source": [
    "printAll('conductivity')"
   ]
  },
  {
   "cell_type": "code",
   "execution_count": 346,
   "metadata": {},
   "outputs": [
    {
     "data": {
      "text/markdown": [
       "### Boxplot dan Histogram organicCarbon"
      ],
      "text/plain": [
       "<IPython.core.display.Markdown object>"
      ]
     },
     "metadata": {},
     "output_type": "display_data"
    },
    {
     "data": {
      "text/markdown": [
       "Pada boxplot dapat dilihat bahwa nilai upper tail adalah 23.525109 dan nilai lower tail adalah 5.280983."
      ],
      "text/plain": [
       "<IPython.core.display.Markdown object>"
      ]
     },
     "metadata": {},
     "output_type": "display_data"
    },
    {
     "data": {
      "text/markdown": [
       " Pada boxplot dapat terlihat ada pencilan atas. Hal ini juga didukung dari perhitungan dimana nilai maksimum dari organicCarbon > upper tail. Pada boxplot dapat terlihat ada pencilan bawah. Hal ini juga didukung dari perhitungan dimana nilai minimum dari organicCarbon < lower tail."
      ],
      "text/plain": [
       "<IPython.core.display.Markdown object>"
      ]
     },
     "metadata": {},
     "output_type": "display_data"
    },
    {
     "data": {
      "text/markdown": [
       "Jika dilihat pada histogram, diketahui bahwa skewness kolom organicCarbon adalah $-0.020220$. Oleh karena itu dapat disimpulkan bahwa kolom bersifat organicCarbon Dari histogram kita bisa lihat bahwa kolom organicCarbon bersifat ***symmetrically distributed***. Hal ini juga didukung oleh data karena $-0.5 < skew < 0.5$"
      ],
      "text/plain": [
       "<IPython.core.display.Markdown object>"
      ]
     },
     "metadata": {},
     "output_type": "display_data"
    },
    {
     "data": {
      "text/markdown": [
       "Terlihat bahwa kolom tersebut memiliki ***leptokurtic distribution*** karena terdapat banyak nilai ekstrem atas ($kurt > 0$). Hal tersebut juga dibuktikan dengan nilai kurtosis kolom yang bernilai $0.031018$. "
      ],
      "text/plain": [
       "<IPython.core.display.Markdown object>"
      ]
     },
     "metadata": {},
     "output_type": "display_data"
    },
    {
     "data": {
      "image/png": "[encoded data removed]",
      "text/plain": [
       "<Figure size 720x288 with 2 Axes>"
      ]
     },
     "metadata": {
      "needs_background": "light"
     },
     "output_type": "display_data"
    }
   ],
   "source": [
    "printAll('organicCarbon')"
   ]
  },
  {
   "cell_type": "code",
   "execution_count": 347,
   "metadata": {},
   "outputs": [
    {
     "data": {
      "text/markdown": [
       "### Boxplot dan Histogram trihalomethanes"
      ],
      "text/plain": [
       "<IPython.core.display.Markdown object>"
      ]
     },
     "metadata": {},
     "output_type": "display_data"
    },
    {
     "data": {
      "text/markdown": [
       "Pada boxplot dapat dilihat bahwa nilai upper tail adalah 109.311542 dan nilai lower tail adalah 23.933063."
      ],
      "text/plain": [
       "<IPython.core.display.Markdown object>"
      ]
     },
     "metadata": {},
     "output_type": "display_data"
    },
    {
     "data": {
      "text/markdown": [
       " Pada boxplot dapat terlihat ada pencilan atas. Hal ini juga didukung dari perhitungan dimana nilai maksimum dari trihalomethanes > upper tail. Pada boxplot dapat terlihat ada pencilan bawah. Hal ini juga didukung dari perhitungan dimana nilai minimum dari trihalomethanes < lower tail."
      ],
      "text/plain": [
       "<IPython.core.display.Markdown object>"
      ]
     },
     "metadata": {},
     "output_type": "display_data"
    },
    {
     "data": {
      "text/markdown": [
       "Jika dilihat pada histogram, diketahui bahwa skewness kolom trihalomethanes adalah $-0.051383$. Oleh karena itu dapat disimpulkan bahwa kolom bersifat trihalomethanes Dari histogram kita bisa lihat bahwa kolom trihalomethanes bersifat ***symmetrically distributed***. Hal ini juga didukung oleh data karena $-0.5 < skew < 0.5$"
      ],
      "text/plain": [
       "<IPython.core.display.Markdown object>"
      ]
     },
     "metadata": {},
     "output_type": "display_data"
    },
    {
     "data": {
      "text/markdown": [
       "Terlihat bahwa kolom tersebut memiliki ***leptokurtic distribution*** karena terdapat banyak nilai ekstrem atas ($kurt > 0$). Hal tersebut juga dibuktikan dengan nilai kurtosis kolom yang bernilai $0.223017$. "
      ],
      "text/plain": [
       "<IPython.core.display.Markdown object>"
      ]
     },
     "metadata": {},
     "output_type": "display_data"
    },
    {
     "data": {
      "image/png": "[encoded data removed]",
      "text/plain": [
       "<Figure size 720x288 with 2 Axes>"
      ]
     },
     "metadata": {
      "needs_background": "light"
     },
     "output_type": "display_data"
    }
   ],
   "source": [
    "printAll('trihalomethanes')"
   ]
  },
  {
   "cell_type": "code",
   "execution_count": 348,
   "metadata": {},
   "outputs": [
    {
     "data": {
      "text/markdown": [
       "### Boxplot dan Histogram turbidity"
      ],
      "text/plain": [
       "<IPython.core.display.Markdown object>"
      ]
     },
     "metadata": {},
     "output_type": "display_data"
    },
    {
     "data": {
      "text/markdown": [
       "Pada boxplot dapat dilihat bahwa nilai upper tail adalah 6.122334 dan nilai lower tail adalah 1.835210."
      ],
      "text/plain": [
       "<IPython.core.display.Markdown object>"
      ]
     },
     "metadata": {},
     "output_type": "display_data"
    },
    {
     "data": {
      "text/markdown": [
       " Pada boxplot dapat terlihat ada pencilan atas. Hal ini juga didukung dari perhitungan dimana nilai maksimum dari turbidity > upper tail. Pada boxplot dapat terlihat ada pencilan bawah. Hal ini juga didukung dari perhitungan dimana nilai minimum dari turbidity < lower tail."
      ],
      "text/plain": [
       "<IPython.core.display.Markdown object>"
      ]
     },
     "metadata": {},
     "output_type": "display_data"
    },
    {
     "data": {
      "text/markdown": [
       "Jika dilihat pada histogram, diketahui bahwa skewness kolom turbidity adalah $-0.032266$. Oleh karena itu dapat disimpulkan bahwa kolom bersifat turbidity Dari histogram kita bisa lihat bahwa kolom turbidity bersifat ***symmetrically distributed***. Hal ini juga didukung oleh data karena $-0.5 < skew < 0.5$"
      ],
      "text/plain": [
       "<IPython.core.display.Markdown object>"
      ]
     },
     "metadata": {},
     "output_type": "display_data"
    },
    {
     "data": {
      "text/markdown": [
       "Terlihat bahwa kolom tersebut memiliki  ***platykurtic distribution*** karena terdapat banyak niali ekstrem bawah ($kurt < 0$). Hal tersebut juga dibuktikan dengan nilai kurtosis kolom yang bernilai $-0.049831$. "
      ],
      "text/plain": [
       "<IPython.core.display.Markdown object>"
      ]
     },
     "metadata": {},
     "output_type": "display_data"
    },
    {
     "data": {
      "image/png": "[encoded data removed]",
      "text/plain": [
       "<Figure size 720x288 with 2 Axes>"
      ]
     },
     "metadata": {
      "needs_background": "light"
     },
     "output_type": "display_data"
    }
   ],
   "source": [
    "printAll('turbidity')"
   ]
  },
  {
   "cell_type": "markdown",
   "metadata": {},
   "source": [
    "# Nomor 3"
   ]
  },
  {
   "cell_type": "markdown",
   "metadata": {},
   "source": [
    "Menentukan setiap kolom numerik berdistribusi normal atau tidak. Gunakan normality test\n",
    "yang dikaitkan dengan histogram plot!\n",
    "\n",
    "Pada nomor ini akan dilakukan pengujian menggunakan fungsi normaltest dari library scipy yang berdasarkan D'Agostino-Pearson Test. Nilai alpha yang digunakan, yaitu sebesar 0.05. Jika p-value yang didapatkan kurang dari alpha, kolom tersebut tidak berdistribusi normal. Selain itu akan ditampilkan plot histogram untuk dilakukan pengamatan secara visual."
   ]
  },
  {
   "cell_type": "code",
   "execution_count": 349,
   "metadata": {},
   "outputs": [],
   "source": [
    "def normalityTest(column):\n",
    "    sns.histplot(df[column], kde=True, stat=\"density\", linewidth=1)\n",
    "\n",
    "    alpha = 0.05\n",
    "    print(\"Nilai alpha sebesar \" + str(alpha))\n",
    "    k2, pVal = s.normaltest(df[column])\n",
    "    print(\"P-value yang didapatkan sebesar \" + str(pVal))"
   ]
  },
  {
   "cell_type": "markdown",
   "metadata": {},
   "source": [
    "### Kolom pH"
   ]
  },
  {
   "cell_type": "code",
   "execution_count": 350,
   "metadata": {},
   "outputs": [
    {
     "name": "stdout",
     "output_type": "stream",
     "text": [
      "Nilai alpha sebesar 0.05\n",
      "P-value yang didapatkan sebesar 2.6514813346797777e-05\n"
     ]
    },
    {
     "data": {
      "image/png": "[encoded data removed]",
      "text/plain": [
       "<Figure size 432x288 with 1 Axes>"
      ]
     },
     "metadata": {
      "needs_background": "light"
     },
     "output_type": "display_data"
    }
   ],
   "source": [
    "normalityTest(\"pH\")"
   ]
  },
  {
   "cell_type": "markdown",
   "metadata": {},
   "source": [
    "Berdasarkan hasil pengujian normal, didapatkan p-value sebesar 2.6514813346797777e-05 yang kurang dari nilai alpha. Oleh karena itu, kolom pH tidak berdistribusi normal. Selain itu, kurva dari histogram plot yang didapatkan terlihat kurang simetris."
   ]
  },
  {
   "cell_type": "markdown",
   "metadata": {},
   "source": [
    "### Kolom hardness"
   ]
  },
  {
   "cell_type": "code",
   "execution_count": 351,
   "metadata": {},
   "outputs": [
    {
     "name": "stdout",
     "output_type": "stream",
     "text": [
      "Nilai alpha sebesar 0.05\n",
      "P-value yang didapatkan sebesar 0.00013442428699593753\n"
     ]
    },
    {
     "data": {
      "image/png": "[encoded data removed]",
      "text/plain": [
       "<Figure size 432x288 with 1 Axes>"
      ]
     },
     "metadata": {
      "needs_background": "light"
     },
     "output_type": "display_data"
    }
   ],
   "source": [
    "normalityTest(\"hardness\")"
   ]
  },
  {
   "cell_type": "markdown",
   "metadata": {},
   "source": [
    "Berdasarkan hasil pengujian normal, didapatkan p-value sebesar 0.00013442428699593753 yang kurang dari nilai alpha. Oleh karena itu, kolom hardness tidak berdistribusi normal. Selain itu, kurva dari histogram plot yang didapatkan terlihat tidak membentuk bell curve. Bagian kanan kurva tidak mendekati sumbu datar secara asimtotik."
   ]
  },
  {
   "cell_type": "markdown",
   "metadata": {},
   "source": [
    "### Kolom solids"
   ]
  },
  {
   "cell_type": "code",
   "execution_count": 352,
   "metadata": {},
   "outputs": [
    {
     "name": "stdout",
     "output_type": "stream",
     "text": [
      "Nilai alpha sebesar 0.05\n",
      "P-value yang didapatkan sebesar 2.0796613688739523e-24\n"
     ]
    },
    {
     "data": {
      "image/png": "[encoded data removed]",
      "text/plain": [
       "<Figure size 432x288 with 1 Axes>"
      ]
     },
     "metadata": {
      "needs_background": "light"
     },
     "output_type": "display_data"
    }
   ],
   "source": [
    "normalityTest(\"solids\")"
   ]
  },
  {
   "cell_type": "markdown",
   "metadata": {},
   "source": [
    "Berdasarkan hasil pengujian normal, didapatkan p-value sebesar 2.0796613688739523e-24 yang kurang dari nilai alpha. Oleh karena itu, kolom solids tidak berdistribusi normal. Selain itu, kurva dari histogram plot yang didapatkan terlihat tidak simetri terhadap sumbu tegak. Kurva terlihat positively skewed."
   ]
  },
  {
   "cell_type": "markdown",
   "metadata": {},
   "source": [
    "### Kolom chloramines"
   ]
  },
  {
   "cell_type": "code",
   "execution_count": 353,
   "metadata": {},
   "outputs": [
    {
     "name": "stdout",
     "output_type": "stream",
     "text": [
      "Nilai alpha sebesar 0.05\n",
      "P-value yang didapatkan sebesar 0.0002504831654753917\n"
     ]
    },
    {
     "data": {
      "image/png": "[encoded data removed]",
      "text/plain": [
       "<Figure size 432x288 with 1 Axes>"
      ]
     },
     "metadata": {
      "needs_background": "light"
     },
     "output_type": "display_data"
    }
   ],
   "source": [
    "normalityTest(\"chloramines\")"
   ]
  },
  {
   "cell_type": "markdown",
   "metadata": {},
   "source": [
    "Berdasarkan hasil pengujian normal, didapatkan p-value sebesar 0.0002504831654753917 yang kurang dari nilai alpha. Oleh karena itu, kolom chloramines tidak berdistribusi normal. Selain itu, kurva dari histogram plot yang didapatkan terlihat tidak membentuk bell curve. Bagian kanan dan kiri kurva tidak mendekati sumbu datar secara asimtotik."
   ]
  },
  {
   "cell_type": "markdown",
   "metadata": {},
   "source": [
    "### Kolom sulfate"
   ]
  },
  {
   "cell_type": "code",
   "execution_count": 354,
   "metadata": {},
   "outputs": [
    {
     "name": "stdout",
     "output_type": "stream",
     "text": [
      "Nilai alpha sebesar 0.05\n",
      "P-value yang didapatkan sebesar 4.4255936678013136e-07\n"
     ]
    },
    {
     "data": {
      "image/png": "[encoded data removed]",
      "text/plain": [
       "<Figure size 432x288 with 1 Axes>"
      ]
     },
     "metadata": {
      "needs_background": "light"
     },
     "output_type": "display_data"
    }
   ],
   "source": [
    "normalityTest(\"sulfate\")"
   ]
  },
  {
   "cell_type": "markdown",
   "metadata": {},
   "source": [
    "Berdasarkan hasil pengujian normal, didapatkan p-value sebesar 4.4255936678013136e-07 yang kurang dari nilai alpha. Oleh karena itu, kolom sulfate tidak berdistribusi normal. Selain itu, kurva dari histogram plot yang didapatkan terlihat tidak simetris terhadap sumbu tegak."
   ]
  },
  {
   "cell_type": "markdown",
   "metadata": {},
   "source": [
    "### Kolom conducitivity"
   ]
  },
  {
   "cell_type": "code",
   "execution_count": 355,
   "metadata": {},
   "outputs": [
    {
     "name": "stdout",
     "output_type": "stream",
     "text": [
      "Nilai alpha sebesar 0.05\n",
      "P-value yang didapatkan sebesar 4.39018078287845e-07\n"
     ]
    },
    {
     "data": {
      "image/png": "[encoded data removed]",
      "text/plain": [
       "<Figure size 432x288 with 1 Axes>"
      ]
     },
     "metadata": {
      "needs_background": "light"
     },
     "output_type": "display_data"
    }
   ],
   "source": [
    "normalityTest(\"conductivity\")"
   ]
  },
  {
   "cell_type": "markdown",
   "metadata": {},
   "source": [
    "Berdasarkan hasil pengujian normal, didapatkan p-value sebesar 4.39018078287845e-07 yang kurang dari nilai alpha. Oleh karena itu, kolom conductivity tidak berdistribusi normal. Selain itu, kurva dari histogram plot yang didapatkan terlihat tidak simetris terhadap sumbu tegak."
   ]
  },
  {
   "cell_type": "markdown",
   "metadata": {},
   "source": [
    "### Kolom organic carbon"
   ]
  },
  {
   "cell_type": "code",
   "execution_count": 356,
   "metadata": {},
   "outputs": [
    {
     "name": "stdout",
     "output_type": "stream",
     "text": [
      "Nilai alpha sebesar 0.05\n",
      "P-value yang didapatkan sebesar 0.8825496581408284\n"
     ]
    },
    {
     "data": {
      "image/png": "[encoded data removed]",
      "text/plain": [
       "<Figure size 432x288 with 1 Axes>"
      ]
     },
     "metadata": {
      "needs_background": "light"
     },
     "output_type": "display_data"
    }
   ],
   "source": [
    "normalityTest(\"organicCarbon\")"
   ]
  },
  {
   "cell_type": "markdown",
   "metadata": {},
   "source": [
    "Berdasarkan hasil pengujian normal, didapatkan p-value sebesar 0.8825496581408284 yang lebih besar dari nilai alpha. Oleh karena itu, kolom OrganicCarbon berdistribusi normal. Selain itu, kurva dari histogram plot yang didapatkan terlihat simetris terhadap sumbu tegak. Skewness kurva terlihat normal (no skew)."
   ]
  },
  {
   "cell_type": "markdown",
   "metadata": {},
   "source": [
    "### Kolom trihalomethanes"
   ]
  },
  {
   "cell_type": "code",
   "execution_count": 357,
   "metadata": {},
   "outputs": [
    {
     "name": "stdout",
     "output_type": "stream",
     "text": [
      "Nilai alpha sebesar 0.05\n",
      "P-value yang didapatkan sebesar 0.1043598441875204\n"
     ]
    },
    {
     "data": {
      "image/png": "[encoded data removed]",
      "text/plain": [
       "<Figure size 432x288 with 1 Axes>"
      ]
     },
     "metadata": {
      "needs_background": "light"
     },
     "output_type": "display_data"
    }
   ],
   "source": [
    "normalityTest(\"trihalomethanes\")"
   ]
  },
  {
   "cell_type": "markdown",
   "metadata": {},
   "source": [
    "Berdasarkan hasil pengujian normal, didapatkan p-value sebesar 0.1043598441875204 yang lebih besar dari nilai alpha. Oleh karena itu, kolom trihalomethanes berdistribusi normal. Selain itu, kurva dari histogram plot yang didapatkan terlihat simetris terhadap sumbu tegak. Skewness kurva terlihat normal (no skew)."
   ]
  },
  {
   "cell_type": "markdown",
   "metadata": {},
   "source": [
    "### Kolom turbidity"
   ]
  },
  {
   "cell_type": "code",
   "execution_count": 358,
   "metadata": {},
   "outputs": [
    {
     "name": "stdout",
     "output_type": "stream",
     "text": [
      "Nilai alpha sebesar 0.05\n",
      "P-value yang didapatkan sebesar 0.7694717369961169\n"
     ]
    },
    {
     "data": {
      "image/png": "[encoded data removed]",
      "text/plain": [
       "<Figure size 432x288 with 1 Axes>"
      ]
     },
     "metadata": {
      "needs_background": "light"
     },
     "output_type": "display_data"
    }
   ],
   "source": [
    "normalityTest(\"turbidity\")"
   ]
  },
  {
   "cell_type": "markdown",
   "metadata": {},
   "source": [
    "Berdasarkan hasil pengujian normal, didapatkan p-value sebesar 0.7694717369961169 yang lebih besar dari nilai alpha. Oleh karena itu, kolom turbidity berdistribusi normal. Selain itu, kurva dari histogram plot yang didapatkan terlihat simetris terhadap sumbu tegak. Skewness kurva terlihat normal (no skew)."
   ]
  },
  {
   "cell_type": "markdown",
   "metadata": {},
   "source": [
    "# Nomor 4\n",
    "\n",
    "Melakukan test hipotesis 1 sampel, dengan menuliskan 6 langkah testing dan menampilkan\n",
    "juga boxplotnya untuk kolom/bagian yang bersesuaian."
   ]
  },
  {
   "cell_type": "code",
   "execution_count": 359,
   "metadata": {},
   "outputs": [],
   "source": [
    "def z_test(col, mu):\n",
    "    mean = df[col].mean()\n",
    "    sigma = df[col].std()\n",
    "    n  = df[col].count()\n",
    "    return mean, sigma, n, (mean-mu)/(sigma/(n ** 0.5))"
   ]
  },
  {
   "cell_type": "markdown",
   "metadata": {},
   "source": [
    "### a. Nilai Rata-rata pH di atas 7?\n",
    "\n",
    "### Langkah-langkah   \n",
    "1. Tentukan Hipotesis nol ($H_0$)\n",
    "\n",
    "      $H_0$ : $\\mu_{pH}$ = 7\n",
    "\n",
    "2. Tentukan Hipotesis alternatif ($H_1$)\n",
    "\n",
    "      $H_1$ : $\\mu_{pH}$ > 7  (one-tailed test)\n",
    "    \n",
    "3. Tentukan tingkat signifikan ($\\alpha$)\n",
    "    \n",
    "      $\\alpha$ = 0.05\n",
    "  \n",
    "4. Tentukan uji statistik yang sesuai dan tentukan daerah kritis.\n",
    "   \n",
    "      Dari jawaban nomor 1 diketahui hal-hal berikut:\n",
    "      1. Jumlah sampel lebih dari 30 $(n \\geq 30)$\n",
    "      2. Nilai rata-rata dan standar deviasi diketahui\n",
    "      3. Nilai variansi populasi diketahui\n",
    "\n",
    "      Oleh karena tiga kondisi tersebut maka pada soal ini akan dipilih uji statistik  ***Z test*** \n",
    "   \n",
    "      Daerah kritis: Test ini merupakan jenis **one-tailed test** karena itu untuk menentukan nilai $z$ sebagai perbandingan, diambil nilai $z$ dari tabel A.3, yang akan dinotasikan sebagai $z_{\\alpha}$. \n",
    "      Nilai *significance level* $\\alpha$ adalah 0.05, maka nilai *confidence level* adalah $1-0.05 = 0.95$. Untuk mendapat nilai demikian, nilai $z_{\\alpha}$ yang bersesuaian adalah **1.645** .\n",
    "\n",
    "      Maka, daerah kritis adalah $z_{\\alpha} > 1.645$ \n",
    "      \n",
    "\n",
    "5. Hitung nilai uji statistik"
   ]
  },
  {
   "cell_type": "code",
   "execution_count": 360,
   "metadata": {},
   "outputs": [
    {
     "name": "stdout",
     "output_type": "stream",
     "text": [
      "Rata-rata sebenarnya: 7.0871927687138285\n",
      "Simpangan Baku: 1.5728029470456655\n",
      "Jumlah Sampel: 2010\n",
      "Hasil uji statistik (z): 2.485445147379887\n",
      "Hasil uji P-value: 0.006469476288896492\n"
     ]
    }
   ],
   "source": [
    "import scipy.stats as stats\n",
    "alpha = 0.05\n",
    "mu = 7\n",
    "\n",
    "mean, sigma, n, z = z_test('pH', mu) \n",
    "p = 1 - stats.norm.cdf(z)\n",
    "\n",
    "print(\"Rata-rata sebenarnya:\", mean)\n",
    "print(\"Simpangan Baku:\", sigma)\n",
    "print(\"Jumlah Sampel:\", n)\n",
    "print(\"Hasil uji statistik (z):\", z)\n",
    "print(\"Hasil uji P-value:\", p)\n"
   ]
  },
  {
   "cell_type": "markdown",
   "metadata": {},
   "source": [
    "***\n",
    "$\\normalsize\\bar{x} = 7.0871927687138285$\n",
    "\n",
    "$\\sigma = 1.5728029470456655$\n",
    "\n",
    "$n = 2010$\n",
    "\n",
    "$z = \\Large\\frac{\\bar{x}-\\mu_0}{\\sigma / \\sqrt{n}}$\n",
    "\n",
    "Maka:\n",
    "\n",
    "$z = 2.485445147379887$\n",
    "\n",
    "$p-value = 0.006469476288896492$\n",
    "***\n",
    "\n",
    "6. Mengambil keputusan\n",
    "\n",
    "Berdasarkan data hasil perhitungan pada poin 5, diperoleh keputusan sebagai berikut:\n",
    "1. $H_0$ *DITOLAK* karena nilai uji terletak di daerah kritis\n",
    "2. $H_0$ *DITOLAK* karena *p-value* lebih kecil dari $\\alpha$\n",
    "\n",
    "Maka, $H_0$ *DITOLAK*\n",
    "\n",
    "**Nilai rata-rata pH di atas 7**"
   ]
  },
  {
   "cell_type": "code",
   "execution_count": 361,
   "metadata": {},
   "outputs": [
    {
     "data": {
      "image/png": "[encoded data removed]",
      "text/plain": [
       "<Figure size 432x288 with 1 Axes>"
      ]
     },
     "metadata": {
      "needs_background": "light"
     },
     "output_type": "display_data"
    }
   ],
   "source": [
    "df.boxplot([\"pH\"])\n",
    "plt.show()"
   ]
  },
  {
   "cell_type": "markdown",
   "metadata": {},
   "source": [
    "### b. Nilai Rata-rata Hardness tidak sama dengan 205?\n",
    "\n",
    "### Langkah-langkah   \n",
    "1. Tentukan Hipotesis nol ($H_0$)\n",
    "\n",
    "      $H_0$ : $\\mu_{Hardness}$ = 205\n",
    "\n",
    "2. Tentukan Hipotesis alternatif ($H_1$)\n",
    "\n",
    "      $H_1$ : $\\mu_{Hardness} \\neq 205 $ (two-tailed test)\n",
    "    \n",
    "3. Tentukan tingkat signifikan ($\\alpha$)\n",
    "    \n",
    "      $\\alpha$ = 0.05\n",
    "  \n",
    "4. Tentukan uji statistik yang sesuai dan tentukan daerah kritis.\n",
    "   \n",
    "      Dari jawaban nomor 1 diketahui hal-hal berikut:\n",
    "      1. Jumlah sampel lebih dari 30 $(n \\geq 30)$\n",
    "      2. Nilai rata-rata dan standar deviasi diketahui\n",
    "      3. Nilai variansi populasi diketahui\n",
    "\n",
    "      Oleh karena tiga kondisi tersebut maka pada soal ini akan dipilih uji statistik  ***Z test***      \n",
    "   \n",
    "      Daerah kritis :\n",
    "      Test ini merupakan jenis *two-tailed test* karena daerah kritis untuk hipotesis alternatif $\\theta \\neq \\theta_{0}$ berada pada *left tail* dan *right tail* dari distribusi.\n",
    "\n",
    "      Karen merupakan *two-tailed test* maka digunakan nilai ${\\alpha/2} = 0.025$. Untuk mendapat nilai demikian, nilai kritis $z_{\\alpha/2}$ yang bersesuaian adalah **1.9600** .\n",
    "\n",
    "      Maka, daerah kritis adalah $z_{\\alpha/2} < -1.9600$ dan $z_{\\alpha/2} > 1.9600$ \n",
    "\n",
    "5. Hitung nilai uji statistik"
   ]
  },
  {
   "cell_type": "code",
   "execution_count": 362,
   "metadata": {},
   "outputs": [
    {
     "name": "stdout",
     "output_type": "stream",
     "text": [
      "Rata-rata sebenarnya: 195.96920903783524\n",
      "Simpangan Baku: 32.643165859429864\n",
      "Jumlah Sampel: 2010\n",
      "Hasil uji statistik (z): -12.403137170010732\n",
      "Hasil uji P-value: 2.0\n"
     ]
    }
   ],
   "source": [
    "alpha = 0.05\n",
    "mu = 205\n",
    "\n",
    "mean, sigma, n, z = z_test(\"hardness\", mu) \n",
    "p = 2 * stats.norm.sf(z)\n",
    "\n",
    "print(\"Rata-rata sebenarnya:\", mean)\n",
    "print(\"Simpangan Baku:\", sigma)\n",
    "print(\"Jumlah Sampel:\", n)\n",
    "print(\"Hasil uji statistik (z):\", z)\n",
    "print(\"Hasil uji P-value:\", p)"
   ]
  },
  {
   "cell_type": "markdown",
   "metadata": {},
   "source": [
    "***\n",
    "$\\normalsize\\bar{x} = 195.96920903783524$\n",
    "\n",
    "$\\sigma = 32.643165859429864$\n",
    "\n",
    "$n = 2010$\n",
    "\n",
    "$z = \\Large\\frac{\\bar{x}-\\mu_0}{\\sigma / \\sqrt{n}}$\n",
    "\n",
    "Maka:\n",
    "\n",
    "$z = -12.403137170010732$\n",
    "\n",
    "$p-value = 2.0$\n",
    "***\n",
    "\n",
    "6. Mengambil keputusan\n",
    "\n",
    "Berdasarkan data hasil perhitungan pada poin 5, diperoleh keputusan sebagai berikut:\n",
    "1. $H_0$ *DITOLAK* karena nilai uji terletak di daerah kritis\n",
    "\n",
    "Maka, $H_0$ *DITOLAK*\n",
    "\n",
    "**Nilai rata-rata Hardness tidak sama dengan 205.**"
   ]
  },
  {
   "cell_type": "code",
   "execution_count": 363,
   "metadata": {},
   "outputs": [
    {
     "data": {
      "image/png": "[encoded data removed]",
      "text/plain": [
       "<Figure size 432x288 with 1 Axes>"
      ]
     },
     "metadata": {
      "needs_background": "light"
     },
     "output_type": "display_data"
    }
   ],
   "source": [
    "df.boxplot([\"hardness\"])\n",
    "plt.show()"
   ]
  },
  {
   "cell_type": "markdown",
   "metadata": {},
   "source": [
    "### c. Nilai Rata-rata 100 baris pertama kolom Solids bukan 21900?\n",
    "\n",
    "### Langkah-langkah   \n",
    "1. Tentukan Hipotesis nol ($H_0$)\n",
    "\n",
    "      $H_0$ : $\\mu_{100 baris pertama Solids}$ = 21900\n",
    "\n",
    "2. Tentukan Hipotesis alternatif ($H_1$)\n",
    "\n",
    "      $H_1$ : $\\mu_{100 baris pertama Solids} \\neq 21900 $ (two-tailed test)\n",
    "    \n",
    "3. Tentukan tingkat signifikan ($\\alpha$)\n",
    "    \n",
    "      $\\alpha$ = 0.05\n",
    "  \n",
    "4. Tentukan uji statistik yang sesuai dan tentukan daerah kritis.\n",
    "   \n",
    "      Dari jawaban nomor 1 diketahui hal-hal berikut:\n",
    "      1. Jumlah sampel lebih dari 30 $(n \\geq 30)$\n",
    "      2. Nilai rata-rata dan standar deviasi diketahui\n",
    "      3. Nilai variansi populasi diketahui\n",
    "\n",
    "      Oleh karena tiga kondisi tersebut maka pada soal ini akan dipilih uji statistik  ***Z test***      \n",
    "   \n",
    "      Daerah kritis :\n",
    "      Test ini merupakan jenis *two-tailed test* karena daerah kritis untuk hipotesis alternatif $\\theta \\neq \\theta_{0}$ berada pada *left tail* dan *right tail* dari distribusi.\n",
    "\n",
    "      Karena merupakan *two-tailed test* maka digunakan nilai ${\\alpha/2} = 0.025$. Untuk mendapat nilai demikian, nilai kritis $z_{\\alpha/2}$ yang bersesuaian adalah **1.96** .\n",
    "\n",
    "      Maka, daerah kritis adalah $z_{\\alpha/2} < -1.96$ dan $z_{\\alpha/2} > 1.96$ \n",
    "\n",
    "5. Hitung nilai uji statistik"
   ]
  },
  {
   "cell_type": "code",
   "execution_count": 364,
   "metadata": {},
   "outputs": [
    {
     "name": "stdout",
     "output_type": "stream",
     "text": [
      "Rata-rata sebenarnya: 22347.334446383426\n",
      "Simpangan Baku: 7935.967706199006\n",
      "Jumlah Sampel: 100\n",
      "Hasil uji statistik (z): 0.5636797715721551\n",
      "Hasil uji P-value: 0.5729720864655174\n"
     ]
    }
   ],
   "source": [
    "mean = df.head(100)['solids'].mean()\n",
    "sigma = df.head(100)['solids'].std()\n",
    "n  = df.head(100)['solids'].count()\n",
    "z = (mean-21900)/(sigma/(n ** 0.5))\n",
    "p = 2 * stats.norm.sf(z)\n",
    "\n",
    "print(\"Rata-rata sebenarnya:\", mean)\n",
    "print(\"Simpangan Baku:\", sigma)\n",
    "print(\"Jumlah Sampel:\", n)\n",
    "print(\"Hasil uji statistik (z):\", z)\n",
    "print(\"Hasil uji P-value:\", p)"
   ]
  },
  {
   "cell_type": "markdown",
   "metadata": {},
   "source": [
    "***\n",
    "$\\normalsize\\bar{x} = 22347.334446383426$\n",
    "\n",
    "$\\sigma = 7935.967706199006$\n",
    "\n",
    "$n = 100$\n",
    "\n",
    "$z = \\Large\\frac{\\bar{x}-\\mu_0}{\\sigma / \\sqrt{n}}$\n",
    "\n",
    "Maka:\n",
    "\n",
    "$z = 0.5636797715721551$\n",
    "\n",
    "$p-value = 0.5729720864655174$\n",
    "***\n",
    "\n",
    "6. Mengambil keputusan\n",
    "\n",
    "Berdasarkan data hasil perhitungan pada poin 5, diperoleh keputusan sebagai berikut:\n",
    "1. Nilai uji tidak terletak pada daerah kritis\n",
    "2. P-value lebih besar dibanding $\\alpha$\n",
    "\n",
    "Maka:\n",
    "**Pernyataan nilai rata-rata 100 baris pertama kolom solids bukan 21900 tidak terbukti.**"
   ]
  },
  {
   "cell_type": "code",
   "execution_count": 365,
   "metadata": {},
   "outputs": [
    {
     "data": {
      "image/png": "[encoded data removed]",
      "text/plain": [
       "<Figure size 432x288 with 1 Axes>"
      ]
     },
     "metadata": {
      "needs_background": "light"
     },
     "output_type": "display_data"
    }
   ],
   "source": [
    "df[:100].boxplot([\"solids\"])\n",
    "plt.title(\"Boxplot 100 baris pertama solids\")\n",
    "plt.show()"
   ]
  },
  {
   "cell_type": "markdown",
   "metadata": {},
   "source": [
    "### d. Proporsi nilai Conductivity yang lebih dari 450, adalah tidak sama dengan 10%?\n",
    "\n",
    "### Langkah-langkah   \n",
    "1. Tentukan Hipotesis nol ($H_0$)\n",
    "\n",
    "      $H_0$ : $p = 0.1$ \n",
    "\n",
    "2. Tentukan Hipotesis alternatif ($H_1$)\n",
    "\n",
    "      $H_1$ : $p \\neq 0.1 $ (two-tailed test)\n",
    "\n",
    "    \n",
    "3. Tentukan tingkat signifikan ($\\alpha$)\n",
    "    \n",
    "      $\\alpha$ = 0.05\n",
    "  \n",
    "4. Tentukan uji statistik yang sesuai dan tentukan daerah kritis.\n",
    "   \n",
    "      Karena jumlah sampel yang cukup besar maka \n",
    "      uji statistik yang kami adalah ***distribusi binomial dengan pendekatan distribusi normal***\n",
    "\n",
    "      Daerah kritis :\n",
    "      Test ini merupakan jenis *two-tailed test* karena daerah kritis untuk hipotesis alternatif $\\theta \\neq \\theta_{0}$ berada pada *left tail* dan *right tail* dari distribusi.\n",
    "\n",
    "      Karena merupakan *two-tailed test* maka digunakan nilai ${\\alpha/2} = 0.025$. Untuk mendapat nilai demikian, nilai kritis $z_{\\alpha/2}$ yang bersesuaian adalah **1.96** .\n",
    "\n",
    "      Maka, daerah kritis adalah $z_{\\alpha/2} < -1.96$ dan $z_{\\alpha/2} > 1.96$  \n",
    "\n",
    "5. Hitung nilai uji statistik"
   ]
  },
  {
   "cell_type": "code",
   "execution_count": 366,
   "metadata": {},
   "outputs": [
    {
     "name": "stdout",
     "output_type": "stream",
     "text": [
      "Jumlah data (x): 745\n",
      "Proportion (p0): 0.1\n",
      "n 2010\n",
      "Hasil uji statistik (z): 40.446376131589325\n",
      "Hasil uji P-value: 0.0\n"
     ]
    }
   ],
   "source": [
    "alpha = 0.05\n",
    "\n",
    "n = df.shape[0]\n",
    "temp = df.loc[df['conductivity'] > 450]['conductivity']\n",
    "x = temp.count()\n",
    "\n",
    "# propotion = df_conGt450.count()[0]/df.count()\n",
    "p0 = 0.1\n",
    "q0 = 1 - p0\n",
    "# sigma = df['conductivity'].std()\n",
    "\n",
    "\n",
    "z_alpha = stats.norm.ppf(1-alpha/2)\n",
    "z = (x-n*p0)/(math.sqrt(n*p0*(1-p0)))\n",
    "p = 2 * stats.norm.sf(z)\n",
    "\n",
    "\n",
    "print(\"Jumlah data (x):\",x)\n",
    "print(\"Proportion (p0):\", p0)\n",
    "print(\"n\", n)\n",
    "print(\"Hasil uji statistik (z):\", z)\n",
    "print(\"Hasil uji P-value:\", p)"
   ]
  },
  {
   "cell_type": "markdown",
   "metadata": {},
   "source": [
    "***\n",
    "$x = 745$\n",
    "\n",
    "$p_0 = 0.15$\n",
    "\n",
    "$n = 2010$\n",
    "\n",
    "$z = \\Large\\frac{x-np_0}{\\sqrt{{n}{p_0}{(1-p_0)}}}$\n",
    "\n",
    "Maka:\n",
    "\n",
    "$z = 40.446376131589325$\n",
    "\n",
    "$p-value = 0.0$\n",
    "***\n",
    "\n",
    "6. Mengambil keputusan\n",
    "\n",
    "Berdasarkan data hasil perhitungan pada poin 5, diperoleh keputusan sebagai berikut:\n",
    "1. $H_0$ *DITOLAK* karena nilai uji terletak pada daerah kritis\n",
    "2. $H_0$ *DITOLAK* karena P-value lebih kecil dibanding $\\alpha$\n",
    "\n",
    "Maka:\n",
    "**Proporsi nilai Conductivity yang lebih dari 450, adalah tidak sama dengan 10% terbukti**"
   ]
  },
  {
   "cell_type": "code",
   "execution_count": 367,
   "metadata": {},
   "outputs": [
    {
     "data": {
      "image/png": "[encoded data removed]",
      "text/plain": [
       "<Figure size 432x288 with 1 Axes>"
      ]
     },
     "metadata": {
      "needs_background": "light"
     },
     "output_type": "display_data"
    }
   ],
   "source": [
    "temp = df.loc[df['conductivity'] > 450]\n",
    "temp.boxplot(['conductivity'])\n",
    "\n",
    "plt.show()"
   ]
  },
  {
   "cell_type": "markdown",
   "metadata": {},
   "source": [
    "### e. Proporsi nilai Trihalomethanes yang kurang dari 40, adalah kurang dari 5%?\n",
    "\n",
    "### Langkah-langkah   \n",
    "1. Tentukan Hipotesis nol ($H_0$)\n",
    "\n",
    "      $H_0$ : $p = 0.05$ \n",
    "\n",
    "2. Tentukan Hipotesis alternatif ($H_1$)\n",
    "\n",
    "      $H_1$ : $p < 0.05 $ (one-tailed test)\n",
    "\n",
    "    \n",
    "3. Tentukan tingkat signifikan ($\\alpha$)\n",
    "    \n",
    "      $\\alpha$ = 0.05\n",
    "  \n",
    "4. Tentukan uji statistik yang sesuai dan tentukan daerah kritis.\n",
    "   \n",
    "      Karena jumlah sampel yang cukup besar maka \n",
    "      uji statistik yang kami adalah ***distribusi binomial dengan pendekatan distribusi normal***\n",
    "\n",
    "      Daerah kritis: Test ini merupakan jenis **one-tailed test** karena itu untuk menentukan nilai $z$ sebagai perbandingan, diambil nilai $z$ dari tabel A.3, yang akan dinotasikan sebagai $z_{\\alpha}$. \n",
    "      Nilai *significance level* $\\alpha$ adalah 0.05, maka nilai *confidence level* adalah $1-0.05 = 0.95$. Untuk mendapat nilai demikian, nilai $z_{\\alpha}$ yang bersesuaian adalah **1.645** .\n",
    "\n",
    "      Maka, daerah kritis adalah $z_{\\alpha} < -1.645$\n",
    " \n",
    "\n",
    "5. Hitung nilai uji statistik"
   ]
  },
  {
   "cell_type": "code",
   "execution_count": 368,
   "metadata": {},
   "outputs": [
    {
     "name": "stdout",
     "output_type": "stream",
     "text": [
      "Jumlah data (x): 106\n",
      "Proportion (p0): 0.05\n",
      "n 2010\n",
      "Hasil uji statistik (z): 0.5628826416670959\n",
      "Hasil uji P-value: 0.7132425995092373\n"
     ]
    }
   ],
   "source": [
    "alpha = 0.05\n",
    "\n",
    "\n",
    "n = df.shape[0]\n",
    "temp = df.loc[df['trihalomethanes'] < 40]['trihalomethanes']\n",
    "x = temp.count()\n",
    "\n",
    "# propotion = df_conGt450.count()[0]/df.count()\n",
    "p0 = 0.05\n",
    "q0 = 1 - p0\n",
    "# sigma = df['conductivity'].std()\n",
    "\n",
    "z = (x-n*p0)/(math.sqrt(n*p0*(1-p0)))\n",
    "p = stats.norm.cdf(z)\n",
    "\n",
    "\n",
    "print(\"Jumlah data (x):\",x)\n",
    "print(\"Proportion (p0):\", p0)\n",
    "print(\"n\", n)\n",
    "print(\"Hasil uji statistik (z):\", z)\n",
    "print(\"Hasil uji P-value:\", p)"
   ]
  },
  {
   "cell_type": "markdown",
   "metadata": {},
   "source": [
    "***\n",
    "$x = 106$\n",
    "\n",
    "$p_0 = 0.05$\n",
    "\n",
    "$n = 2010$\n",
    "\n",
    "$z = \\Large\\frac{x-np_0}{\\sqrt{{n}{p_0}{(1-p_0)}}}$\n",
    "\n",
    "Maka:\n",
    "\n",
    "$z = 0.5628826416670959$\n",
    "\n",
    "$p-value = 0.7132425995092373$\n",
    "***\n",
    "\n",
    "6. Mengambil keputusan\n",
    "\n",
    "Berdasarkan data hasil perhitungan pada poin 5, diperoleh keputusan sebagai berikut:\n",
    "1. Nilai uji terletak di luar daerah kritis\n",
    "2. P-value lebih besar dibanding $\\alpha$\n",
    "\n",
    "Maka:\n",
    "**Proporsi nilai Trihalomethanes yang kurang dari 40, adalah kurang dari 5% terbukti**"
   ]
  },
  {
   "cell_type": "code",
   "execution_count": 369,
   "metadata": {},
   "outputs": [
    {
     "data": {
      "image/png": "[encoded data removed]",
      "text/plain": [
       "<Figure size 432x288 with 1 Axes>"
      ]
     },
     "metadata": {
      "needs_background": "light"
     },
     "output_type": "display_data"
    }
   ],
   "source": [
    "temp = df.loc[df['trihalomethanes'] < 40]\n",
    "temp.boxplot(['trihalomethanes'])\n",
    "# df.boxplot(['trihalomethanes'])\n",
    "\n",
    "plt.show()"
   ]
  },
  {
   "cell_type": "markdown",
   "metadata": {},
   "source": [
    "# Nomor 5"
   ]
  },
  {
   "cell_type": "markdown",
   "metadata": {},
   "source": [
    "Melakukan test hipotesis 2 sampel, dengan menuliskan 6 langkah testing dan menampilkan\n",
    "juga boxplotnya untuk kolom/bagian yang bersesuaian."
   ]
  },
  {
   "cell_type": "markdown",
   "metadata": {},
   "source": [
    "### a. Data kolom Sulfate dibagi 2 sama rata: bagian awal dan bagian akhir kolom. Benarkah rata-rata kedua bagian tersebut sama?"
   ]
  },
  {
   "cell_type": "code",
   "execution_count": 370,
   "metadata": {},
   "outputs": [
    {
     "data": {
      "image/png": "[encoded data removed]",
      "text/plain": [
       "<Figure size 432x288 with 1 Axes>"
      ]
     },
     "metadata": {
      "needs_background": "light"
     },
     "output_type": "display_data"
    }
   ],
   "source": [
    "# Boxplot data kolom Sulfate bagian awal kolom\n",
    "\n",
    "df[:1005].boxplot([\"sulfate\"])\n",
    "plt.title(\"Boxplot Kolom Sulfate Bagian Awal\")\n",
    "plt.show()"
   ]
  },
  {
   "cell_type": "code",
   "execution_count": 371,
   "metadata": {},
   "outputs": [
    {
     "data": {
      "image/png": "[encoded data removed]",
      "text/plain": [
       "<Figure size 432x288 with 1 Axes>"
      ]
     },
     "metadata": {
      "needs_background": "light"
     },
     "output_type": "display_data"
    }
   ],
   "source": [
    "# Boxplot data kolom Sulfate bagian akhir kolom\n",
    "\n",
    "df[1005:].boxplot([\"sulfate\"])\n",
    "plt.title(\"Boxplot Kolom Sulfate Bagian Akhir\")\n",
    "plt.show()"
   ]
  },
  {
   "cell_type": "markdown",
   "metadata": {},
   "source": [
    "$\\mu_{1}$ = rata-rata kolom sulfate bagian awal\n",
    "\n",
    "$\\mu_{2}$ = rata-rata kolom sulfate bagian akhir\n",
    "\n",
    "Enam langkah testing:\n",
    "\n",
    "1. Penentuan $H_0$: $\\mu_{1} - \\mu_{2} = 0$\n",
    "2. Penentuan $H_1$: $\\mu_{1} - \\mu_{2} \\neq 0$\n",
    "3. Penentuan tingkat signifikan $\\alpha = 0.05$\n",
    "4. Uji statistik yang digunakan adalah two-tailed test dengan kedua variansi diketahui dengan rumus seperti berikut:\n",
    "\n",
    "$$ z = \\frac{(\\bar{x}_1 - \\bar{x}_2) - {d}_0}{\\sqrt{\\frac{\\sigma^2_{1}}{{n}_1} + \\frac{\\sigma^2_{2}}{{n}_2}}}$$\n",
    "\n",
    "dengan ${d}_0 = 0$\n",
    "\n",
    "Penentuan daerah kritis:\n",
    "\n",
    "$z < -z_{\\alpha/2}$ atau $z > z_{\\alpha/2}$\n",
    "\n",
    "$z < -z_{0.025}$ atau $z > z_{0.025}$\n",
    "\n",
    "$z < -1.96$ atau $z > 1.96$ (Menggunakan Tabel Critical Values of the t-Distributon atau Tabel A.4)\n",
    "\n",
    "5. Perhitungan nilai uji statistik dan p-value:\n"
   ]
  },
  {
   "cell_type": "code",
   "execution_count": 372,
   "metadata": {},
   "outputs": [
    {
     "name": "stdout",
     "output_type": "stream",
     "text": [
      "Nilai uji statistik (z) = -2.0752690696871983\n",
      "Nilai p-value = 0.03796160438512852\n"
     ]
    }
   ],
   "source": [
    "# Perhitungan nilai uji statistik\n",
    "\n",
    "mean1 = df[:1005][\"sulfate\"].mean()\n",
    "mean2 = df[1005:][\"sulfate\"].mean()\n",
    "\n",
    "var1 = df[:1005][\"sulfate\"].var()\n",
    "var2 = df[1005:][\"sulfate\"].var()\n",
    "\n",
    "\n",
    "z = (mean1 - mean2) / (math.sqrt(var1/1005 + var2/1005))\n",
    "print(\"Nilai uji statistik (z) = \" + str(z))\n",
    "\n",
    "# Perhitungan p-value\n",
    "\n",
    "'''\n",
    "    Perhitungan p-value dilakukan dengan bantuan library scipy untuk menghitung\n",
    "    fungsi distribusi kumulatif \n",
    "'''\n",
    "pVal = 2*(1-s.norm.cdf(abs(z)))\n",
    "print(\"Nilai p-value = \" + str(pVal))\n"
   ]
  },
  {
   "cell_type": "markdown",
   "metadata": {},
   "source": [
    "6. Pengambilan keputusan\n",
    "\n",
    "Berdasarkan nilai uji statistik, yaitu -2.0752690696871983 yang berada di dalam daerah kritis, diambil keputusan bahwa $H_0$ ditolak. Selain itu, didapatkan nilai p-value sebesar 0.03796160438512852 yang kurang dari nilai alpha, yaitu 0.05. Oleh karena itu, juga diambil keputusan bahwa $H_0$ ditolak. Dengan kata lain, rata-rata bagian awal kolom Sulfate tidak sama dengan rata-rata bagian akhir kolom Sulfate."
   ]
  },
  {
   "cell_type": "markdown",
   "metadata": {},
   "source": [
    "### b. Data kolom OrganicCarbon dibagi 2 sama rata: bagian awal dan bagian akhir kolom. Benarkah rata-rata bagian awal lebih besar dari pada bagian akhir sebesar 0.15?"
   ]
  },
  {
   "cell_type": "code",
   "execution_count": 373,
   "metadata": {},
   "outputs": [
    {
     "data": {
      "image/png": "[encoded data removed]",
      "text/plain": [
       "<Figure size 432x288 with 1 Axes>"
      ]
     },
     "metadata": {
      "needs_background": "light"
     },
     "output_type": "display_data"
    }
   ],
   "source": [
    "# Boxplot data kolom OrganicCarbon bagian awal kolom\n",
    "\n",
    "df[:1005].boxplot([\"organicCarbon\"])\n",
    "plt.title(\"Boxplot Kolom OrganicCarbon Bagian Awal\")\n",
    "plt.show()"
   ]
  },
  {
   "cell_type": "code",
   "execution_count": 374,
   "metadata": {},
   "outputs": [
    {
     "data": {
      "image/png": "[encoded data removed]",
      "text/plain": [
       "<Figure size 432x288 with 1 Axes>"
      ]
     },
     "metadata": {
      "needs_background": "light"
     },
     "output_type": "display_data"
    }
   ],
   "source": [
    "# Boxplot data kolom OrganicCarbon bagian akhir kolom\n",
    "\n",
    "df[:1005].boxplot([\"organicCarbon\"])\n",
    "plt.title(\"Boxplot Kolom OrganicCarbon Bagian Akhir\")\n",
    "plt.show()"
   ]
  },
  {
   "cell_type": "markdown",
   "metadata": {},
   "source": [
    "$\\mu_{1}$ = rata-rata kolom OrganicCarbon bagian awal\n",
    "\n",
    "$\\mu_{2}$ = rata-rata kolom OrganicCarbon bagian akhir\n",
    "\n",
    "Enam langkah testing:\n",
    "\n",
    "1. Penentuan $H_0$: $\\mu_{1} - \\mu_{2} = 0.15$\n",
    "2. Penentuan $H_1$: $\\mu_{1} - \\mu_{2} \\neq 0.15$\n",
    "3. Penentuan tingkat signifikan $\\alpha = 0.05$\n",
    "4. Uji statistik yang digunakan adalah two-tailed test dengan kedua variansi diketahui dengan rumus seperti berikut:\n",
    "\n",
    "$$ z = \\frac{(\\bar{x}_1 - \\bar{x}_2) - {d}_0}{\\sqrt{\\frac{\\sigma^2_{1}}{{n}_1} + \\frac{\\sigma^2_{2}}{{n}_2}}}$$\n",
    "\n",
    "dengan ${d}_0 = 0.15$\n",
    "\n",
    "Penentuan daerah kritis:\n",
    "\n",
    "$z < -z_{\\alpha/2}$ atau $z > z_{\\alpha/2}$\n",
    "\n",
    "$z < -z_{0.025}$ atau $z > z_{0.025}$\n",
    "\n",
    "$z < -1.96$ atau $z > 1.96$ (Menggunakan Tabel Critical Values of the t-Distributon atau Tabel A.4)\n",
    "\n",
    "5. Perhitungan nilai uji statistik dan p-value:\n"
   ]
  },
  {
   "cell_type": "code",
   "execution_count": 375,
   "metadata": {},
   "outputs": [
    {
     "name": "stdout",
     "output_type": "stream",
     "text": [
      "Nilai uji statistik (z) = -2.413145517798807\n",
      "Nilai p-value = 0.015815503817599996\n"
     ]
    }
   ],
   "source": [
    "# Perhitungan nilai uji statistik\n",
    "\n",
    "mean1 = df[:1005][\"organicCarbon\"].mean()\n",
    "mean2 = df[1005:][\"organicCarbon\"].mean()\n",
    "\n",
    "var1 = df[:1005][\"organicCarbon\"].var()\n",
    "var2 = df[1005:][\"organicCarbon\"].var()\n",
    "\n",
    "z = (mean1 - mean2 - 0.15) / (math.sqrt(var1/1005 + var2/1005))\n",
    "print(\"Nilai uji statistik (z) = \" + str(z))\n",
    "\n",
    "# Perhitungan p-value\n",
    "\n",
    "'''\n",
    "    Perhitungan p-value dilakukan dengan bantuan library scipy untuk menghitung\n",
    "    fungsi distribusi kumulatif \n",
    "'''\n",
    "pVal = 2*(1-s.norm.cdf(abs(z)))\n",
    "print(\"Nilai p-value = \" + str(pVal))\n"
   ]
  },
  {
   "cell_type": "markdown",
   "metadata": {},
   "source": [
    "6. Pengambilan keputusan\n",
    "\n",
    "Berdasarkan nilai uji statistik, yaitu -2.413145517798807 yang berada di dalam daerah kritis, diambil keputusan bahwa $H_0$ ditolak. Selain itu, didapatkan nilai p-value sebesar 0.015815503817599996 yang kurang dari nilai alpha, yaitu 0.05. Oleh karena itu, juga diambil keputusan bahwa $H_0$ ditolak. Dengan kata lain, rata-rata bagian awal kolom OrganicCarbon tidak lebih besar dari rata-rata bagian akhir kolom OrganicCarbon sebesar 0.15."
   ]
  },
  {
   "cell_type": "markdown",
   "metadata": {},
   "source": [
    "### c. Rata-rata 100 baris pertama kolom Chloramines sama dengan 100 baris terakhirnya?"
   ]
  },
  {
   "cell_type": "code",
   "execution_count": 376,
   "metadata": {},
   "outputs": [
    {
     "data": {
      "image/png": "[encoded data removed]",
      "text/plain": [
       "<Figure size 432x288 with 1 Axes>"
      ]
     },
     "metadata": {
      "needs_background": "light"
     },
     "output_type": "display_data"
    }
   ],
   "source": [
    "# Boxplot data kolom Chloramines 100 baris pertama\n",
    "\n",
    "df[:100].boxplot([\"chloramines\"])\n",
    "plt.title(\"Boxplot Kolom Chloramines 100 baris pertama\")\n",
    "plt.show()"
   ]
  },
  {
   "cell_type": "code",
   "execution_count": 377,
   "metadata": {},
   "outputs": [
    {
     "data": {
      "image/png": "[encoded data removed]",
      "text/plain": [
       "<Figure size 432x288 with 1 Axes>"
      ]
     },
     "metadata": {
      "needs_background": "light"
     },
     "output_type": "display_data"
    }
   ],
   "source": [
    "# Boxplot data kolom Chloramines 100 baris terakhir\n",
    "\n",
    "df[1910:].boxplot([\"chloramines\"])\n",
    "plt.title(\"Boxplot Kolom Chloramines 100 baris terakhir\")\n",
    "plt.show()"
   ]
  },
  {
   "cell_type": "markdown",
   "metadata": {},
   "source": [
    "$\\mu_{1}$ = rata-rata kolom Chloramines 100 baris pertama\n",
    "\n",
    "$\\mu_{2}$ = rata-rata kolom Chloramines 100 baris terakhir\n",
    "\n",
    "Enam langkah testing:\n",
    "\n",
    "1. Penentuan $H_0$: $\\mu_{1} - \\mu_{2} = 0$\n",
    "2. Penentuan $H_1$: $\\mu_{1} - \\mu_{2} \\neq 0$\n",
    "3. Penentuan tingkat signifikan $\\alpha = 0.05$\n",
    "4. Uji statistik yang digunakan adalah two-tailed test dengan kedua variansi diketahui dengan rumus seperti berikut:\n",
    "\n",
    "$$ z = \\frac{(\\bar{x}_1 - \\bar{x}_2) - {d}_0}{\\sqrt{\\frac{\\sigma^2_{1}}{{n}_1} + \\frac{\\sigma^2_{2}}{{n}_2}}}$$\n",
    "\n",
    "dengan ${d}_0 = 0$\n",
    "\n",
    "Penentuan daerah kritis:\n",
    "\n",
    "$z < -z_{\\alpha/2}$ atau $z > z_{\\alpha/2}$\n",
    "\n",
    "$z < -z_{0.025}$ atau $z > z_{0.025}$\n",
    "\n",
    "$z < -1.96$ atau $z > 1.96$ (Menggunakan Tabel Critical Values of the t-Distributon atau Tabel A.4)\n",
    "\n",
    "5. Perhitungan nilai uji statistik dan p-value:\n"
   ]
  },
  {
   "cell_type": "code",
   "execution_count": 378,
   "metadata": {},
   "outputs": [
    {
     "name": "stdout",
     "output_type": "stream",
     "text": [
      "Nilai uji statistik (z) = -2.2379601537718905\n",
      "Nilai p-value = 0.0252236536904078\n"
     ]
    }
   ],
   "source": [
    "# Perhitungan nilai uji statistik\n",
    "\n",
    "mean1 = df[:100][\"chloramines\"].mean()\n",
    "mean2 = df[1910:][\"chloramines\"].mean()\n",
    "\n",
    "var1 = df[:100][\"chloramines\"].var()\n",
    "var2 = df[1910:][\"chloramines\"].var()\n",
    "\n",
    "z = (mean1 - mean2) / (math.sqrt(var1/1005 + var2/1005))\n",
    "print(\"Nilai uji statistik (z) = \" + str(z))\n",
    "\n",
    "\n",
    "# Perhitungan p-value\n",
    "\n",
    "'''\n",
    "    Perhitungan p-value dilakukan dengan bantuan library scipy untuk menghitung\n",
    "    fungsi distribusi kumulatif \n",
    "'''\n",
    "pVal = 2*(1-s.norm.cdf(abs(z)))\n",
    "print(\"Nilai p-value = \" + str(pVal))\n"
   ]
  },
  {
   "cell_type": "markdown",
   "metadata": {},
   "source": [
    "6. Pengambilan keputusan\n",
    "\n",
    "Berdasarkan nilai uji statistik, yaitu -2.2379601537718905 yang berada di dalam daerah kritis, diambil keputusan bahwa $H_0$ ditolak. Selain itu, didapatkan nilai p-value sebesar 0.0252236536904078 yang kurang dari nilai alpha, yaitu 0.05. Oleh karena itu, juga diambil keputusan bahwa $H_0$ ditolak. Dengan kata lain, rata-rata 100 baris pertama kolom Chloramines tidak sama dengan rata-rata 100 baris terakhir kolom Chloramines."
   ]
  },
  {
   "cell_type": "markdown",
   "metadata": {},
   "source": [
    "### d. Proporsi nilai bagian awal Turbidity yang lebih dari 4, adalah lebih besar daripada,\n",
    "proporsi nilai yang sama di bagian akhir Turbidity ?"
   ]
  },
  {
   "cell_type": "code",
   "execution_count": 379,
   "metadata": {},
   "outputs": [
    {
     "data": {
      "image/png": "[encoded data removed]",
      "text/plain": [
       "<Figure size 432x288 with 1 Axes>"
      ]
     },
     "metadata": {
      "needs_background": "light"
     },
     "output_type": "display_data"
    }
   ],
   "source": [
    "# Boxplot data kolom Turbidity bagian awal yang nilainya lebih dari 4\n",
    "\n",
    "awal = df[:1005]\n",
    "awal = awal[awal.turbidity > 4]\n",
    "\n",
    "awal.boxplot([\"turbidity\"])\n",
    "\n",
    "plt.title(\"Boxplot Kolom Turbidity Bagian Awal yang Nilainya Lebih Dari 4\")\n",
    "plt.show()"
   ]
  },
  {
   "cell_type": "code",
   "execution_count": 380,
   "metadata": {},
   "outputs": [
    {
     "data": {
      "image/png": "[encoded data removed]",
      "text/plain": [
       "<Figure size 432x288 with 1 Axes>"
      ]
     },
     "metadata": {
      "needs_background": "light"
     },
     "output_type": "display_data"
    }
   ],
   "source": [
    "# Boxplot data kolom Turbidity bagian akhir yang nilainya lebih dari 4\n",
    "\n",
    "akhir = df[1005:]\n",
    "akhir = akhir[akhir.turbidity > 4]\n",
    "\n",
    "akhir.boxplot([\"turbidity\"])\n",
    "\n",
    "plt.title(\"Boxplot Kolom Turbidity Bagian Akhir yang Nilainya Lebih Dari 4\")\n",
    "plt.show()"
   ]
  },
  {
   "cell_type": "markdown",
   "metadata": {},
   "source": [
    "$p_{1}$ = proporsi kolom Turbidity bagian awal yang nilainya lebih dari 4\n",
    "\n",
    "$p_{2}$ = proporsi kolom Turbidity bagian akhir yang nilainya lebih dari 4\n",
    "\n",
    "Enam langkah testing:\n",
    "\n",
    "1. Penentuan $H_0$: $p_{1} - p_{2} = 0$\n",
    "2. Penentuan $H_1$: $p_{1} - p_{2} > 0$\n",
    "3. Penentuan tingkat signifikan $\\alpha = 0.05$\n",
    "4. Uji statistik yang digunakan adalah one tailed-test pada dua proporsi dengan sampel yang berdistribusi normal dengan rumus seperti berikut:\n",
    "\n",
    "$$ z = \\frac{\\hat{p}_1 - \\hat{p}_2}{\\sqrt{\\hat p\\hat q(\\frac{1}{n_1} + \\frac{1}{n_2})}}$$\n",
    "\n",
    "$${\\hat p} = \\Large\\frac{x_1 + x_2}{n_1 + n_2}$$\n",
    "\n",
    "Penentuan daerah kritis:\n",
    "\n",
    "$z > z_{\\alpha}$\n",
    "\n",
    "$z > z_{0.05}$\n",
    "\n",
    "$z > 1.645$ (Menggunakan Tabel Critical Values of the t-Distributon atau Tabel A.4)\n",
    "\n",
    "\n",
    "5. Perhitungan nilai uji statistik dan p-value:\n"
   ]
  },
  {
   "cell_type": "code",
   "execution_count": 381,
   "metadata": {},
   "outputs": [
    {
     "name": "stdout",
     "output_type": "stream",
     "text": [
      "Nilai uji statistik (z) = -0.13388958661778735\n",
      "Nilai p-value = 0.4467449424088169\n"
     ]
    }
   ],
   "source": [
    "# bagian awal kolom\n",
    "awal = df[:1005]\n",
    "awal = awal[awal.turbidity > 4][\"turbidity\"]\n",
    "\n",
    "# bagian akhir kolom\n",
    "akhir = df[1005:]\n",
    "akhir = akhir[akhir.turbidity > 4][\"turbidity\"]\n",
    "\n",
    "p1 = awal.count() / 1005\n",
    "p2 = akhir.count() / 1005\n",
    "\n",
    "p = (awal.count() + akhir.count()) / (1005 + 1005)\n",
    "\n",
    "z = (p1 - p2) / (math.sqrt(p * (1-p) * (1/1005 + 1/1005)))\n",
    "print(\"Nilai uji statistik (z) = \" + str(z))\n",
    "\n",
    "# Perhitungan p-value\n",
    "\n",
    "'''\n",
    "    Perhitungan p-value dilakukan dengan bantuan library scipy untuk menghitung\n",
    "    fungsi distribusi kumulatif \n",
    "'''\n",
    "\n",
    "pVal = 1-(s.norm.cdf(abs(z)))\n",
    "print(\"Nilai p-value = \" + str(pVal))\n"
   ]
  },
  {
   "cell_type": "markdown",
   "metadata": {},
   "source": [
    "6. Pengambilan keputusan\n",
    "\n",
    "Berdasarkan nilai uji statistik, yaitu -0.13388958661778735 yang berada di luar daerah kritis, diambil keputusan bahwa $H_0$ diterima. Selain itu, didapatkan nilai p-value sebesar 0.4467449424088169 yang lebih besar dari nilai alpha, yaitu 0.05. Oleh karena itu, juga diambil keputusan bahwa $H_0$ diterima. Dengan kata lain, proporsi nilai bagian awal Turbidity yang lebih dari 4 sama dengan proporsi nilai bagian akhir Turbidity yang lebih dari 4."
   ]
  },
  {
   "cell_type": "markdown",
   "metadata": {},
   "source": [
    "### e. Bagian awal kolom Sulfate memiliki variansi yang sama dengan bagian akhirnya?"
   ]
  },
  {
   "cell_type": "code",
   "execution_count": 382,
   "metadata": {},
   "outputs": [
    {
     "data": {
      "image/png": "[encoded data removed]",
      "text/plain": [
       "<Figure size 432x288 with 1 Axes>"
      ]
     },
     "metadata": {
      "needs_background": "light"
     },
     "output_type": "display_data"
    }
   ],
   "source": [
    "# Boxplot data kolom Sulfate bagian awal kolom\n",
    "\n",
    "df[:1005].boxplot([\"sulfate\"])\n",
    "plt.title(\"Boxplot Kolom Sulfate Bagian Awal\")\n",
    "plt.show()"
   ]
  },
  {
   "cell_type": "code",
   "execution_count": 383,
   "metadata": {},
   "outputs": [
    {
     "data": {
      "image/png": "[encoded data removed]",
      "text/plain": [
       "<Figure size 432x288 with 1 Axes>"
      ]
     },
     "metadata": {
      "needs_background": "light"
     },
     "output_type": "display_data"
    }
   ],
   "source": [
    "# Boxplot data kolom Sulfate bagian akhir kolom\n",
    "\n",
    "df[1005:].boxplot([\"sulfate\"])\n",
    "plt.title(\"Boxplot Kolom Sulfate Bagian Akhir\")\n",
    "plt.show()"
   ]
  },
  {
   "cell_type": "markdown",
   "metadata": {},
   "source": [
    "$\\sigma^2_{1}$ = variansi kolom Sulfate bagian awal\n",
    "\n",
    "$\\sigma^2_{2}$ = variansi kolom Sulfate bagian akhir\n",
    "\n",
    "Enam langkah testing:\n",
    "\n",
    "1. Penentuan $H_0$: $\\sigma^2_{1} - \\sigma^2_{2} = 0$\n",
    "2. Penentuan $H_1$: $\\sigma^2_{1} - \\sigma^2_{2} \\neq 0$\n",
    "3. Penentuan tingkat signifikan $\\alpha = 0.05$\n",
    "4. Uji statistik yang digunakan adalah two tailed-test pada dua variansi dengan sampel yang berdistribusi F dengan rumus seperti berikut:\n",
    "\n",
    "$$ f = \\frac{S_2^2}{S_1^2}$$\n",
    "\n",
    "Penentuan daerah kritis, yaitu:\n",
    "\n",
    "$f < f_{1-\\alpha/2}(v_{1},v_{2})$ atau $f > f_{\\alpha/2}(v_{1},v_{2})$\n",
    "\n",
    "dengan $v_{1} = n_{1} - 1$ dan $v_{2} = n_{2} - 1$\n",
    "\n",
    "$v_{1} = 1005 - 1 = 1004 $\n",
    "\n",
    "$v_{2} = 1005 - 1 = 1004 $\n"
   ]
  },
  {
   "cell_type": "code",
   "execution_count": 384,
   "metadata": {},
   "outputs": [
    {
     "name": "stdout",
     "output_type": "stream",
     "text": [
      "Nilai batas bawah daerah kritis = 0.883572344355818\n",
      "Nilai batas atas daerah kritis = 1.1317692392568777\n"
     ]
    }
   ],
   "source": [
    "# penentuan daerah kritis menggunakan library scipy\n",
    "\n",
    "upper = s.f.ppf(1 - 0.05/2, 1005 - 1, 1005 - 1)\n",
    "lower = s.f.ppf(0.05/2, 1005 - 1, 1005 - 1)\n",
    "\n",
    "print(\"Nilai batas bawah daerah kritis = \" + str(lower))\n",
    "print(\"Nilai batas atas daerah kritis = \" + str(upper))"
   ]
  },
  {
   "cell_type": "markdown",
   "metadata": {},
   "source": [
    "Didapatkan daerah kritis sebagai berikut:\n",
    "\n",
    "f < 0.883572344355818 atau f > 1.1317692392568777\n",
    "\n",
    "5. Perhitungan nilai uji statistik dan p-value:"
   ]
  },
  {
   "cell_type": "code",
   "execution_count": 385,
   "metadata": {},
   "outputs": [
    {
     "name": "stdout",
     "output_type": "stream",
     "text": [
      "Nilai uji statistik (f) = 1.0152511043950063\n",
      "Nilai p-value = 0.30998614559492665\n"
     ]
    }
   ],
   "source": [
    "var1 = df[:1005][\"sulfate\"].var()\n",
    "var2 = df[1005:][\"sulfate\"].var()\n",
    "\n",
    "f = var1 / var2\n",
    "print(\"Nilai uji statistik (f) = \" + str(f))\n",
    "\n",
    "# Perhitungan p-value\n",
    "\n",
    "'''\n",
    "    Perhitungan p-value dilakukan dengan bantuan library scipy untuk menghitung\n",
    "    fungsi distribusi kumulatif \n",
    "'''\n",
    "\n",
    "pVal = 2*(1-s.norm.cdf(abs(f)))\n",
    "print(\"Nilai p-value = \" + str(pVal))"
   ]
  },
  {
   "cell_type": "markdown",
   "metadata": {},
   "source": [
    "6. Pengambilan keputusan\n",
    "\n",
    "Berdasarkan nilai uji statistik, yaitu 1.0152511043950063 yang berada di luar daerah kritis, diambil keputusan bahwa $H_0$ diterima. Selain itu, didapatkan nilai p-value sebesar 0.30998614559492665 yang lebih besar dari nilai alpha, yaitu 0.05. Oleh karena itu, juga diambil keputusan bahwa $H_0$ diterima. Dengan kata lain, variansi kolom Sulfate bagian awal sama dengan variansi kolom Sulfate bagian akhir."
   ]
  },
  {
   "cell_type": "markdown",
   "metadata": {},
   "source": [
    "# Nomor 6"
   ]
  },
  {
   "cell_type": "markdown",
   "metadata": {},
   "source": [
    "Test korelasi: tentukan apakah setiap kolom non-target berkorelasi dengan kolom target,\n",
    "dengan menggambarkan juga scatter plot nya. Gunakan correlation test!\n",
    "\n",
    "Tes korelasi yang dilakukan menggunakan bantuan fungsi pearsonr dari library scipy yang berdasarkan Person Correlation Coefficient atau Koefisien Korelasi Pearson. "
   ]
  },
  {
   "cell_type": "code",
   "execution_count": 386,
   "metadata": {},
   "outputs": [],
   "source": [
    "def correlation(column1, column2):\n",
    "    cor, pVal = s.pearsonr(df[column1], df[column2])\n",
    "    sns.regplot(x = df[column1], y = df[column2])\n",
    "    print(\"Nilai korelasi antara kolom \" + column1 + \" dan \" + column2 + \" sebesar \" + str(cor))\n",
    "    \n"
   ]
  },
  {
   "cell_type": "markdown",
   "metadata": {},
   "source": [
    "### Kolom pH dan potability"
   ]
  },
  {
   "cell_type": "code",
   "execution_count": 387,
   "metadata": {},
   "outputs": [
    {
     "name": "stdout",
     "output_type": "stream",
     "text": [
      "Nilai korelasi antara kolom pH dan potability sebesar 0.015475094408433499\n"
     ]
    },
    {
     "data": {
      "image/png": "[encoded data removed]",
      "text/plain": [
       "<Figure size 432x288 with 1 Axes>"
      ]
     },
     "metadata": {
      "needs_background": "light"
     },
     "output_type": "display_data"
    }
   ],
   "source": [
    "correlation(\"pH\", \"potability\")"
   ]
  },
  {
   "cell_type": "markdown",
   "metadata": {},
   "source": [
    "Nilai korelasi antara kolom pH dan potability sebesar 0.015475094408433499 lebih besar dari nol. Artinya, kolom pH dan potability berkorelasi secara positif atau berbanding lurus. Hal itu juga terlihat dari grafik regresi yang memiliki gradien positif."
   ]
  },
  {
   "cell_type": "markdown",
   "metadata": {},
   "source": [
    "### Kolom hardness dan potability"
   ]
  },
  {
   "cell_type": "code",
   "execution_count": 388,
   "metadata": {},
   "outputs": [
    {
     "name": "stdout",
     "output_type": "stream",
     "text": [
      "Nilai korelasi antara kolom hardness dan potability sebesar -0.0014631528959479546\n"
     ]
    },
    {
     "data": {
      "image/png": "[encoded data removed]",
      "text/plain": [
       "<Figure size 432x288 with 1 Axes>"
      ]
     },
     "metadata": {
      "needs_background": "light"
     },
     "output_type": "display_data"
    }
   ],
   "source": [
    "correlation(\"hardness\", \"potability\")"
   ]
  },
  {
   "cell_type": "markdown",
   "metadata": {},
   "source": [
    "Nilai korelasi antara kolom hardness dan potability sebesar -0.0014631528959479546 lebih kecil dari nol. Artinya, kolom hardness dan potability berkorelasi secara negatif atau berbanding terbalik. Hal itu juga terlihat dari grafik regresi yang memiliki gradien negatif."
   ]
  },
  {
   "cell_type": "markdown",
   "metadata": {},
   "source": [
    "### Kolom solids dan potability"
   ]
  },
  {
   "cell_type": "code",
   "execution_count": 389,
   "metadata": {},
   "outputs": [
    {
     "name": "stdout",
     "output_type": "stream",
     "text": [
      "Nilai korelasi antara kolom solids dan potability sebesar 0.03897657818173474\n"
     ]
    },
    {
     "data": {
      "image/png": "[encoded data removed]",
      "text/plain": [
       "<Figure size 432x288 with 1 Axes>"
      ]
     },
     "metadata": {
      "needs_background": "light"
     },
     "output_type": "display_data"
    }
   ],
   "source": [
    "correlation(\"solids\", \"potability\")"
   ]
  },
  {
   "cell_type": "markdown",
   "metadata": {},
   "source": [
    "Nilai korelasi antara kolom solids dan potability sebesar 0.03897657818173474 lebih besar dari nol. Artinya, kolom solids dan potability berkorelasi secara positif atau berbanding lurus. Hal itu juga terlihat dari grafik regresi yang memiliki gradien positif."
   ]
  },
  {
   "cell_type": "markdown",
   "metadata": {},
   "source": [
    "### Kolom chloramines dan potability"
   ]
  },
  {
   "cell_type": "code",
   "execution_count": 390,
   "metadata": {},
   "outputs": [
    {
     "name": "stdout",
     "output_type": "stream",
     "text": [
      "Nilai korelasi antara kolom chloramines dan potability sebesar 0.020778921840524135\n"
     ]
    },
    {
     "data": {
      "image/png": "[encoded data removed]",
      "text/plain": [
       "<Figure size 432x288 with 1 Axes>"
      ]
     },
     "metadata": {
      "needs_background": "light"
     },
     "output_type": "display_data"
    }
   ],
   "source": [
    "correlation(\"chloramines\", \"potability\")"
   ]
  },
  {
   "cell_type": "markdown",
   "metadata": {},
   "source": [
    "Nilai korelasi antara kolom chloramines dan potability sebesar 0.020778921840524135 lebih besar dari nol. Artinya, kolom chloramines dan potability berkorelasi secara positif atau berbanding lurus. Hal itu juga terlihat dari grafik regresi yang memiliki gradien positif."
   ]
  },
  {
   "cell_type": "markdown",
   "metadata": {},
   "source": [
    "### Kolom sulfate dan potability"
   ]
  },
  {
   "cell_type": "code",
   "execution_count": 391,
   "metadata": {},
   "outputs": [
    {
     "name": "stdout",
     "output_type": "stream",
     "text": [
      "Nilai korelasi antara kolom sulfate dan potability sebesar -0.01570316441927381\n"
     ]
    },
    {
     "data": {
      "image/png": "[encoded data removed]",
      "text/plain": [
       "<Figure size 432x288 with 1 Axes>"
      ]
     },
     "metadata": {
      "needs_background": "light"
     },
     "output_type": "display_data"
    }
   ],
   "source": [
    "correlation(\"sulfate\", \"potability\")"
   ]
  },
  {
   "cell_type": "markdown",
   "metadata": {},
   "source": [
    "Nilai korelasi antara kolom sulfate dan potability sebesar -0.01570316441927381 lebih kecil dari nol. Artinya, kolom sulfate dan potability berkorelasi secara negatif atau berbanding terbalik. Hal itu juga terlihat dari grafik regresi yang memiliki gradien negatif."
   ]
  },
  {
   "cell_type": "markdown",
   "metadata": {},
   "source": [
    "### Kolom conductivity dan potability"
   ]
  },
  {
   "cell_type": "code",
   "execution_count": 392,
   "metadata": {},
   "outputs": [
    {
     "name": "stdout",
     "output_type": "stream",
     "text": [
      "Nilai korelasi antara kolom conductivity dan potability sebesar -0.01625712011137709\n"
     ]
    },
    {
     "data": {
      "image/png": "[encoded data removed]",
      "text/plain": [
       "<Figure size 432x288 with 1 Axes>"
      ]
     },
     "metadata": {
      "needs_background": "light"
     },
     "output_type": "display_data"
    }
   ],
   "source": [
    "correlation(\"conductivity\", \"potability\")"
   ]
  },
  {
   "cell_type": "markdown",
   "metadata": {},
   "source": [
    "Nilai korelasi antara kolom conductivity dan potability sebesar -0.01625712011137709 lebih kecil dari nol. Artinya, kolom conductivity dan potability berkorelasi secara negatif atau berbanding terbalik. Hal itu juga terlihat dari grafik regresi yang memiliki gradien negatif."
   ]
  },
  {
   "cell_type": "markdown",
   "metadata": {},
   "source": [
    "### Kolom organic carbon dan potability"
   ]
  },
  {
   "cell_type": "code",
   "execution_count": 393,
   "metadata": {},
   "outputs": [
    {
     "name": "stdout",
     "output_type": "stream",
     "text": [
      "Nilai korelasi antara kolom organicCarbon dan potability sebesar -0.015488461910747308\n"
     ]
    },
    {
     "data": {
      "image/png": "[encoded data removed]",
      "text/plain": [
       "<Figure size 432x288 with 1 Axes>"
      ]
     },
     "metadata": {
      "needs_background": "light"
     },
     "output_type": "display_data"
    }
   ],
   "source": [
    "correlation(\"organicCarbon\", \"potability\")"
   ]
  },
  {
   "cell_type": "markdown",
   "metadata": {},
   "source": [
    "Nilai korelasi antara kolom OrganicCarbon dan potability sebesar -0.015488461910747308 lebih kecil dari nol. Artinya, kolom OrganicCarbon dan potability berkorelasi secara negatif atau berbanding terbalik. Hal itu juga terlihat dari grafik regresi yang memiliki gradien negatif."
   ]
  },
  {
   "cell_type": "markdown",
   "metadata": {},
   "source": [
    "### Kolom trihalomethanes dan potability"
   ]
  },
  {
   "cell_type": "code",
   "execution_count": 394,
   "metadata": {},
   "outputs": [
    {
     "name": "stdout",
     "output_type": "stream",
     "text": [
      "Nilai korelasi antara kolom trihalomethanes dan potability sebesar 0.009236711064713032\n"
     ]
    },
    {
     "data": {
      "image/png": "[encoded data removed]",
      "text/plain": [
       "<Figure size 432x288 with 1 Axes>"
      ]
     },
     "metadata": {
      "needs_background": "light"
     },
     "output_type": "display_data"
    }
   ],
   "source": [
    "correlation(\"trihalomethanes\", \"potability\")"
   ]
  },
  {
   "cell_type": "markdown",
   "metadata": {},
   "source": [
    "Nilai korelasi antara kolom trihalomethanes dan potability sebesar 0.009236711064713032 lebih besar dari nol. Artinya, kolom trihalomethanes dan potability berkorelasi secara positif atau berbanding lurus. Hal itu juga terlihat dari grafik regresi yang memiliki gradien positif."
   ]
  },
  {
   "cell_type": "markdown",
   "metadata": {},
   "source": [
    "### Kolom turbidity dan potability"
   ]
  },
  {
   "cell_type": "code",
   "execution_count": 395,
   "metadata": {},
   "outputs": [
    {
     "name": "stdout",
     "output_type": "stream",
     "text": [
      "Nilai korelasi antara kolom turbidity dan potability sebesar 0.0223310426406227\n"
     ]
    },
    {
     "data": {
      "image/png": "[encoded data removed]",
      "text/plain": [
       "<Figure size 432x288 with 1 Axes>"
      ]
     },
     "metadata": {
      "needs_background": "light"
     },
     "output_type": "display_data"
    }
   ],
   "source": [
    "correlation(\"turbidity\", \"potability\")"
   ]
  },
  {
   "cell_type": "markdown",
   "metadata": {},
   "source": [
    "Nilai korelasi antara kolom turbidity dan potability sebesar 0.0223310426406227 lebih besar dari nol. Artinya, kolom turbidity dan potability berkorelasi secara positif atau berbanding lurus. Hal itu juga terlihat dari grafik regresi yang memiliki gradien positif."
   ]
  }
 ],
 "metadata": {
  "interpreter": {
   "hash": "2512cbabb9529bf43ba756bf570dd626c6c06517ca2d5058e0f90dc9e5e3a093"
  },
  "kernelspec": {
   "display_name": "Python 3.9.6 64-bit",
   "language": "python",
   "name": "python3"
  },
  "language_info": {
   "codemirror_mode": {
    "name": "ipython",
    "version": 3
   },
   "file_extension": ".py",
   "mimetype": "text/x-python",
   "name": "python",
   "nbconvert_exporter": "python",
   "pygments_lexer": "ipython3",
   "version": "3.9.6"
  },
  "orig_nbformat": 4
 },
 "nbformat": 4,
 "nbformat_minor": 2
}
